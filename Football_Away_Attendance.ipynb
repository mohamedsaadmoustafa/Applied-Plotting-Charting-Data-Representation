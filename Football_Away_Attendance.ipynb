{
  "cells": [
    {
      "cell_type": "markdown",
      "metadata": {
        "id": "B3IVOeiUyR7T"
      },
      "source": [
        "# Assignment 4\n",
        "\n",
        "Before working on this assignment please read these instructions fully. In the submission area, you will notice that you can click the link to **Preview the Grading** for each step of the assignment. This is the criteria that will be used for peer grading. Please familiarize yourself with the criteria before beginning the assignment.\n",
        "\n",
        "This assignment requires that you to find **at least** two datasets on the web which are related, and that you visualize these datasets to answer a question with the broad topic of **sports or athletics** (see below) for the region of **Suez, Suez, Egypt**, or **Egypt** more broadly.\n",
        "\n",
        "You can merge these datasets with data from different regions if you like! For instance, you might want to compare **Suez, Suez, Egypt** to Ann Arbor, USA. In that case at least one source file must be about **Suez, Suez, Egypt**.\n",
        "\n",
        "You are welcome to choose datasets at your discretion, but keep in mind **they will be shared with your peers**, so choose appropriate datasets. Sensitive, confidential, illicit, and proprietary materials are not good choices for datasets for this assignment. You are welcome to upload datasets of your own as well, and link to them using a third party repository such as github, bitbucket, pastebin, etc. Please be aware of the Coursera terms of service with respect to intellectual property.\n",
        "\n",
        "Also, you are welcome to preserve data in its original language, but for the purposes of grading you should provide english translations. You are welcome to provide multiple visuals in different languages if you would like!\n",
        "\n",
        "As this assignment is for the whole course, you must incorporate principles discussed in the first week, such as having as high data-ink ratio (Tufte) and aligning with Cairo’s principles of truth, beauty, function, and insight.\n",
        "\n",
        "Here are the assignment instructions:\n",
        "\n",
        " * State the region and the domain category that your data sets are about (e.g., **Suez, Suez, Egypt** and **sports or athletics**).\n",
        " * You must state a question about the domain category and region that you identified as being interesting.\n",
        " * You must provide at least two links to available datasets. These could be links to files such as CSV or Excel files, or links to websites which might have data in tabular form, such as Wikipedia pages.\n",
        " * You must upload an image which addresses the research question you stated. In addition to addressing the question, this visual should follow Cairo's principles of truthfulness, functionality, beauty, and insightfulness.\n",
        " * You must contribute a short (1-2 paragraph) written justification of how your visualization addresses your stated research question.\n",
        "\n",
        "What do we mean by **sports or athletics**?  For this category we are interested in sporting events or athletics broadly, please feel free to creatively interpret the category when building your research question!\n",
        "\n",
        "## Tips\n",
        "* Wikipedia is an excellent source of data, and I strongly encourage you to explore it for new data sources.\n",
        "* Many governments run open data initiatives at the city, region, and country levels, and these are wonderful resources for localized data sources.\n",
        "* Several international agencies, such as the [United Nations](http://data.un.org/), the [World Bank](http://data.worldbank.org/), the [Global Open Data Index](http://index.okfn.org/place/) are other great places to look for data.\n",
        "* This assignment requires you to convert and clean datafiles. Check out the discussion forums for tips on how to do this from various sources, and share your successes with your fellow students!\n",
        "\n",
        "## Example\n",
        "Looking for an example? Here's what our course assistant put together for the **Ann Arbor, MI, USA** area using **sports and athletics** as the topic. [Example Solution File](./readonly/Assignment4_example.pdf)"
      ]
    },
    {
      "cell_type": "code",
      "execution_count": 213,
      "metadata": {
        "id": "FIOJx9H1yR8U"
      },
      "outputs": [],
      "source": [
        "import numpy as np\n",
        "import pandas as pd\n",
        "import matplotlib.pyplot as plt\n",
        "\n",
        "import seaborn as sns\n",
        "#%matplotlib notebook\n",
        "# see the pre-defined styles provided.\n",
        "plt.style.available\n",
        "# use the 'seaborn-colorblind' style\n",
        "plt.style.use('seaborn-colorblind')"
      ]
    },
    {
      "cell_type": "markdown",
      "source": [
        "Football away data 2014-2015 and 2019-2020: [Statbunker Football Statistics](https://data.world/cclayford/statbunker-football-statistics/)"
      ],
      "metadata": {
        "id": "0F2BkEeknm1K"
      }
    },
    {
      "cell_type": "code",
      "execution_count": 214,
      "metadata": {
        "id": "9fFUFVVRyR8Y"
      },
      "outputs": [],
      "source": [
        "df_away_14_15 = pd.read_csv('https://query.data.world/s/cwse4tnovx4ch676xvgepho2rqnbsb')\n",
        "df_away_19_20 = pd.read_csv('https://query.data.world/s/36ic3tgtyvuk2vv5vtjanwetts2hwz')"
      ]
    },
    {
      "cell_type": "code",
      "execution_count": 215,
      "metadata": {
        "collapsed": true,
        "colab": {
          "base_uri": "https://localhost:8080/",
          "height": 355
        },
        "id": "Kw_n5QFEyR8d",
        "outputId": "aa6e5f94-36cc-480d-d943-8c7bd5fa28d6"
      },
      "outputs": [
        {
          "output_type": "execute_result",
          "data": {
            "text/plain": [
              "           League                 Team Avg Away Attendance  \\\n",
              "0  Premier League              Burnley              37,615   \n",
              "1  Premier League            Liverpool              36,757   \n",
              "2  Premier League  Queens Park Rangers              36,739   \n",
              "3  Premier League       Leicester City              36,546   \n",
              "4  Premier League          Aston Villa              36,506   \n",
              "\n",
              "  Total Away Attendance Highest Away Attendance Lowest Away Attendance  \\\n",
              "0               714,692                  75,356                 17,785   \n",
              "1               698,376                  75,331                 18,069   \n",
              "2               698,048                  75,355                 17,523   \n",
              "3               694,379                  75,329                 18,054   \n",
              "4               693,607                  75,397                 18,022   \n",
              "\n",
              "    Season                                         KEY  \n",
              "0  2014/15              Premier League|Burnley|2014/15  \n",
              "1  2014/15            Premier League|Liverpool|2014/15  \n",
              "2  2014/15  Premier League|Queens Park Rangers|2014/15  \n",
              "3  2014/15       Premier League|Leicester City|2014/15  \n",
              "4  2014/15          Premier League|Aston Villa|2014/15  "
            ],
            "text/html": [
              "\n",
              "  <div id=\"df-3680170f-8ac4-48a7-bc0f-10d1cdcbd2ab\">\n",
              "    <div class=\"colab-df-container\">\n",
              "      <div>\n",
              "<style scoped>\n",
              "    .dataframe tbody tr th:only-of-type {\n",
              "        vertical-align: middle;\n",
              "    }\n",
              "\n",
              "    .dataframe tbody tr th {\n",
              "        vertical-align: top;\n",
              "    }\n",
              "\n",
              "    .dataframe thead th {\n",
              "        text-align: right;\n",
              "    }\n",
              "</style>\n",
              "<table border=\"1\" class=\"dataframe\">\n",
              "  <thead>\n",
              "    <tr style=\"text-align: right;\">\n",
              "      <th></th>\n",
              "      <th>League</th>\n",
              "      <th>Team</th>\n",
              "      <th>Avg Away Attendance</th>\n",
              "      <th>Total Away Attendance</th>\n",
              "      <th>Highest Away Attendance</th>\n",
              "      <th>Lowest Away Attendance</th>\n",
              "      <th>Season</th>\n",
              "      <th>KEY</th>\n",
              "    </tr>\n",
              "  </thead>\n",
              "  <tbody>\n",
              "    <tr>\n",
              "      <th>0</th>\n",
              "      <td>Premier League</td>\n",
              "      <td>Burnley</td>\n",
              "      <td>37,615</td>\n",
              "      <td>714,692</td>\n",
              "      <td>75,356</td>\n",
              "      <td>17,785</td>\n",
              "      <td>2014/15</td>\n",
              "      <td>Premier League|Burnley|2014/15</td>\n",
              "    </tr>\n",
              "    <tr>\n",
              "      <th>1</th>\n",
              "      <td>Premier League</td>\n",
              "      <td>Liverpool</td>\n",
              "      <td>36,757</td>\n",
              "      <td>698,376</td>\n",
              "      <td>75,331</td>\n",
              "      <td>18,069</td>\n",
              "      <td>2014/15</td>\n",
              "      <td>Premier League|Liverpool|2014/15</td>\n",
              "    </tr>\n",
              "    <tr>\n",
              "      <th>2</th>\n",
              "      <td>Premier League</td>\n",
              "      <td>Queens Park Rangers</td>\n",
              "      <td>36,739</td>\n",
              "      <td>698,048</td>\n",
              "      <td>75,355</td>\n",
              "      <td>17,523</td>\n",
              "      <td>2014/15</td>\n",
              "      <td>Premier League|Queens Park Rangers|2014/15</td>\n",
              "    </tr>\n",
              "    <tr>\n",
              "      <th>3</th>\n",
              "      <td>Premier League</td>\n",
              "      <td>Leicester City</td>\n",
              "      <td>36,546</td>\n",
              "      <td>694,379</td>\n",
              "      <td>75,329</td>\n",
              "      <td>18,054</td>\n",
              "      <td>2014/15</td>\n",
              "      <td>Premier League|Leicester City|2014/15</td>\n",
              "    </tr>\n",
              "    <tr>\n",
              "      <th>4</th>\n",
              "      <td>Premier League</td>\n",
              "      <td>Aston Villa</td>\n",
              "      <td>36,506</td>\n",
              "      <td>693,607</td>\n",
              "      <td>75,397</td>\n",
              "      <td>18,022</td>\n",
              "      <td>2014/15</td>\n",
              "      <td>Premier League|Aston Villa|2014/15</td>\n",
              "    </tr>\n",
              "  </tbody>\n",
              "</table>\n",
              "</div>\n",
              "      <button class=\"colab-df-convert\" onclick=\"convertToInteractive('df-3680170f-8ac4-48a7-bc0f-10d1cdcbd2ab')\"\n",
              "              title=\"Convert this dataframe to an interactive table.\"\n",
              "              style=\"display:none;\">\n",
              "        \n",
              "  <svg xmlns=\"http://www.w3.org/2000/svg\" height=\"24px\"viewBox=\"0 0 24 24\"\n",
              "       width=\"24px\">\n",
              "    <path d=\"M0 0h24v24H0V0z\" fill=\"none\"/>\n",
              "    <path d=\"M18.56 5.44l.94 2.06.94-2.06 2.06-.94-2.06-.94-.94-2.06-.94 2.06-2.06.94zm-11 1L8.5 8.5l.94-2.06 2.06-.94-2.06-.94L8.5 2.5l-.94 2.06-2.06.94zm10 10l.94 2.06.94-2.06 2.06-.94-2.06-.94-.94-2.06-.94 2.06-2.06.94z\"/><path d=\"M17.41 7.96l-1.37-1.37c-.4-.4-.92-.59-1.43-.59-.52 0-1.04.2-1.43.59L10.3 9.45l-7.72 7.72c-.78.78-.78 2.05 0 2.83L4 21.41c.39.39.9.59 1.41.59.51 0 1.02-.2 1.41-.59l7.78-7.78 2.81-2.81c.8-.78.8-2.07 0-2.86zM5.41 20L4 18.59l7.72-7.72 1.47 1.35L5.41 20z\"/>\n",
              "  </svg>\n",
              "      </button>\n",
              "      \n",
              "  <style>\n",
              "    .colab-df-container {\n",
              "      display:flex;\n",
              "      flex-wrap:wrap;\n",
              "      gap: 12px;\n",
              "    }\n",
              "\n",
              "    .colab-df-convert {\n",
              "      background-color: #E8F0FE;\n",
              "      border: none;\n",
              "      border-radius: 50%;\n",
              "      cursor: pointer;\n",
              "      display: none;\n",
              "      fill: #1967D2;\n",
              "      height: 32px;\n",
              "      padding: 0 0 0 0;\n",
              "      width: 32px;\n",
              "    }\n",
              "\n",
              "    .colab-df-convert:hover {\n",
              "      background-color: #E2EBFA;\n",
              "      box-shadow: 0px 1px 2px rgba(60, 64, 67, 0.3), 0px 1px 3px 1px rgba(60, 64, 67, 0.15);\n",
              "      fill: #174EA6;\n",
              "    }\n",
              "\n",
              "    [theme=dark] .colab-df-convert {\n",
              "      background-color: #3B4455;\n",
              "      fill: #D2E3FC;\n",
              "    }\n",
              "\n",
              "    [theme=dark] .colab-df-convert:hover {\n",
              "      background-color: #434B5C;\n",
              "      box-shadow: 0px 1px 3px 1px rgba(0, 0, 0, 0.15);\n",
              "      filter: drop-shadow(0px 1px 2px rgba(0, 0, 0, 0.3));\n",
              "      fill: #FFFFFF;\n",
              "    }\n",
              "  </style>\n",
              "\n",
              "      <script>\n",
              "        const buttonEl =\n",
              "          document.querySelector('#df-3680170f-8ac4-48a7-bc0f-10d1cdcbd2ab button.colab-df-convert');\n",
              "        buttonEl.style.display =\n",
              "          google.colab.kernel.accessAllowed ? 'block' : 'none';\n",
              "\n",
              "        async function convertToInteractive(key) {\n",
              "          const element = document.querySelector('#df-3680170f-8ac4-48a7-bc0f-10d1cdcbd2ab');\n",
              "          const dataTable =\n",
              "            await google.colab.kernel.invokeFunction('convertToInteractive',\n",
              "                                                     [key], {});\n",
              "          if (!dataTable) return;\n",
              "\n",
              "          const docLinkHtml = 'Like what you see? Visit the ' +\n",
              "            '<a target=\"_blank\" href=https://colab.research.google.com/notebooks/data_table.ipynb>data table notebook</a>'\n",
              "            + ' to learn more about interactive tables.';\n",
              "          element.innerHTML = '';\n",
              "          dataTable['output_type'] = 'display_data';\n",
              "          await google.colab.output.renderOutput(dataTable, element);\n",
              "          const docLink = document.createElement('div');\n",
              "          docLink.innerHTML = docLinkHtml;\n",
              "          element.appendChild(docLink);\n",
              "        }\n",
              "      </script>\n",
              "    </div>\n",
              "  </div>\n",
              "  "
            ]
          },
          "metadata": {},
          "execution_count": 215
        }
      ],
      "source": [
        "df_away_14_15.head()"
      ]
    },
    {
      "cell_type": "code",
      "source": [
        "df_away_19_20.head()"
      ],
      "metadata": {
        "colab": {
          "base_uri": "https://localhost:8080/",
          "height": 355
        },
        "id": "r9u7O90xyl04",
        "outputId": "9d8be5be-c966-4e07-b248-a54a7c70065f"
      },
      "execution_count": 216,
      "outputs": [
        {
          "output_type": "execute_result",
          "data": {
            "text/plain": [
              "           League                    Team Avg Away Attendance  \\\n",
              "0  Premier League        Newcastle United              43,549   \n",
              "1  Premier League          Crystal Palace              43,165   \n",
              "2  Premier League       Tottenham Hotspur              42,765   \n",
              "3  Premier League  Brighton & Hove Albion              46,049   \n",
              "4  Premier League                 Chelsea              41,202   \n",
              "\n",
              "  Total Away Attendance Highest Away Attendance Lowest Away Attendance  \\\n",
              "0               566,136                  73,206                 19,798   \n",
              "1               561,141                  73,454                 19,818   \n",
              "2               555,942                  73,252                 21,366   \n",
              "3               552,592                  73,556                 10,065   \n",
              "4               535,620                  73,620                 20,975   \n",
              "\n",
              "    Season                                            KEY  \n",
              "0  2019/20        Premier League|Newcastle United|2019/20  \n",
              "1  2019/20          Premier League|Crystal Palace|2019/20  \n",
              "2  2019/20       Premier League|Tottenham Hotspur|2019/20  \n",
              "3  2019/20  Premier League|Brighton & Hove Albion|2019/20  \n",
              "4  2019/20                 Premier League|Chelsea|2019/20  "
            ],
            "text/html": [
              "\n",
              "  <div id=\"df-f9793c7c-1c68-4b39-81f2-1a14aa0dbbac\">\n",
              "    <div class=\"colab-df-container\">\n",
              "      <div>\n",
              "<style scoped>\n",
              "    .dataframe tbody tr th:only-of-type {\n",
              "        vertical-align: middle;\n",
              "    }\n",
              "\n",
              "    .dataframe tbody tr th {\n",
              "        vertical-align: top;\n",
              "    }\n",
              "\n",
              "    .dataframe thead th {\n",
              "        text-align: right;\n",
              "    }\n",
              "</style>\n",
              "<table border=\"1\" class=\"dataframe\">\n",
              "  <thead>\n",
              "    <tr style=\"text-align: right;\">\n",
              "      <th></th>\n",
              "      <th>League</th>\n",
              "      <th>Team</th>\n",
              "      <th>Avg Away Attendance</th>\n",
              "      <th>Total Away Attendance</th>\n",
              "      <th>Highest Away Attendance</th>\n",
              "      <th>Lowest Away Attendance</th>\n",
              "      <th>Season</th>\n",
              "      <th>KEY</th>\n",
              "    </tr>\n",
              "  </thead>\n",
              "  <tbody>\n",
              "    <tr>\n",
              "      <th>0</th>\n",
              "      <td>Premier League</td>\n",
              "      <td>Newcastle United</td>\n",
              "      <td>43,549</td>\n",
              "      <td>566,136</td>\n",
              "      <td>73,206</td>\n",
              "      <td>19,798</td>\n",
              "      <td>2019/20</td>\n",
              "      <td>Premier League|Newcastle United|2019/20</td>\n",
              "    </tr>\n",
              "    <tr>\n",
              "      <th>1</th>\n",
              "      <td>Premier League</td>\n",
              "      <td>Crystal Palace</td>\n",
              "      <td>43,165</td>\n",
              "      <td>561,141</td>\n",
              "      <td>73,454</td>\n",
              "      <td>19,818</td>\n",
              "      <td>2019/20</td>\n",
              "      <td>Premier League|Crystal Palace|2019/20</td>\n",
              "    </tr>\n",
              "    <tr>\n",
              "      <th>2</th>\n",
              "      <td>Premier League</td>\n",
              "      <td>Tottenham Hotspur</td>\n",
              "      <td>42,765</td>\n",
              "      <td>555,942</td>\n",
              "      <td>73,252</td>\n",
              "      <td>21,366</td>\n",
              "      <td>2019/20</td>\n",
              "      <td>Premier League|Tottenham Hotspur|2019/20</td>\n",
              "    </tr>\n",
              "    <tr>\n",
              "      <th>3</th>\n",
              "      <td>Premier League</td>\n",
              "      <td>Brighton &amp; Hove Albion</td>\n",
              "      <td>46,049</td>\n",
              "      <td>552,592</td>\n",
              "      <td>73,556</td>\n",
              "      <td>10,065</td>\n",
              "      <td>2019/20</td>\n",
              "      <td>Premier League|Brighton &amp; Hove Albion|2019/20</td>\n",
              "    </tr>\n",
              "    <tr>\n",
              "      <th>4</th>\n",
              "      <td>Premier League</td>\n",
              "      <td>Chelsea</td>\n",
              "      <td>41,202</td>\n",
              "      <td>535,620</td>\n",
              "      <td>73,620</td>\n",
              "      <td>20,975</td>\n",
              "      <td>2019/20</td>\n",
              "      <td>Premier League|Chelsea|2019/20</td>\n",
              "    </tr>\n",
              "  </tbody>\n",
              "</table>\n",
              "</div>\n",
              "      <button class=\"colab-df-convert\" onclick=\"convertToInteractive('df-f9793c7c-1c68-4b39-81f2-1a14aa0dbbac')\"\n",
              "              title=\"Convert this dataframe to an interactive table.\"\n",
              "              style=\"display:none;\">\n",
              "        \n",
              "  <svg xmlns=\"http://www.w3.org/2000/svg\" height=\"24px\"viewBox=\"0 0 24 24\"\n",
              "       width=\"24px\">\n",
              "    <path d=\"M0 0h24v24H0V0z\" fill=\"none\"/>\n",
              "    <path d=\"M18.56 5.44l.94 2.06.94-2.06 2.06-.94-2.06-.94-.94-2.06-.94 2.06-2.06.94zm-11 1L8.5 8.5l.94-2.06 2.06-.94-2.06-.94L8.5 2.5l-.94 2.06-2.06.94zm10 10l.94 2.06.94-2.06 2.06-.94-2.06-.94-.94-2.06-.94 2.06-2.06.94z\"/><path d=\"M17.41 7.96l-1.37-1.37c-.4-.4-.92-.59-1.43-.59-.52 0-1.04.2-1.43.59L10.3 9.45l-7.72 7.72c-.78.78-.78 2.05 0 2.83L4 21.41c.39.39.9.59 1.41.59.51 0 1.02-.2 1.41-.59l7.78-7.78 2.81-2.81c.8-.78.8-2.07 0-2.86zM5.41 20L4 18.59l7.72-7.72 1.47 1.35L5.41 20z\"/>\n",
              "  </svg>\n",
              "      </button>\n",
              "      \n",
              "  <style>\n",
              "    .colab-df-container {\n",
              "      display:flex;\n",
              "      flex-wrap:wrap;\n",
              "      gap: 12px;\n",
              "    }\n",
              "\n",
              "    .colab-df-convert {\n",
              "      background-color: #E8F0FE;\n",
              "      border: none;\n",
              "      border-radius: 50%;\n",
              "      cursor: pointer;\n",
              "      display: none;\n",
              "      fill: #1967D2;\n",
              "      height: 32px;\n",
              "      padding: 0 0 0 0;\n",
              "      width: 32px;\n",
              "    }\n",
              "\n",
              "    .colab-df-convert:hover {\n",
              "      background-color: #E2EBFA;\n",
              "      box-shadow: 0px 1px 2px rgba(60, 64, 67, 0.3), 0px 1px 3px 1px rgba(60, 64, 67, 0.15);\n",
              "      fill: #174EA6;\n",
              "    }\n",
              "\n",
              "    [theme=dark] .colab-df-convert {\n",
              "      background-color: #3B4455;\n",
              "      fill: #D2E3FC;\n",
              "    }\n",
              "\n",
              "    [theme=dark] .colab-df-convert:hover {\n",
              "      background-color: #434B5C;\n",
              "      box-shadow: 0px 1px 3px 1px rgba(0, 0, 0, 0.15);\n",
              "      filter: drop-shadow(0px 1px 2px rgba(0, 0, 0, 0.3));\n",
              "      fill: #FFFFFF;\n",
              "    }\n",
              "  </style>\n",
              "\n",
              "      <script>\n",
              "        const buttonEl =\n",
              "          document.querySelector('#df-f9793c7c-1c68-4b39-81f2-1a14aa0dbbac button.colab-df-convert');\n",
              "        buttonEl.style.display =\n",
              "          google.colab.kernel.accessAllowed ? 'block' : 'none';\n",
              "\n",
              "        async function convertToInteractive(key) {\n",
              "          const element = document.querySelector('#df-f9793c7c-1c68-4b39-81f2-1a14aa0dbbac');\n",
              "          const dataTable =\n",
              "            await google.colab.kernel.invokeFunction('convertToInteractive',\n",
              "                                                     [key], {});\n",
              "          if (!dataTable) return;\n",
              "\n",
              "          const docLinkHtml = 'Like what you see? Visit the ' +\n",
              "            '<a target=\"_blank\" href=https://colab.research.google.com/notebooks/data_table.ipynb>data table notebook</a>'\n",
              "            + ' to learn more about interactive tables.';\n",
              "          element.innerHTML = '';\n",
              "          dataTable['output_type'] = 'display_data';\n",
              "          await google.colab.output.renderOutput(dataTable, element);\n",
              "          const docLink = document.createElement('div');\n",
              "          docLink.innerHTML = docLinkHtml;\n",
              "          element.appendChild(docLink);\n",
              "        }\n",
              "      </script>\n",
              "    </div>\n",
              "  </div>\n",
              "  "
            ]
          },
          "metadata": {},
          "execution_count": 216
        }
      ]
    },
    {
      "cell_type": "code",
      "source": [
        "df_away_14_15.shape == df_away_19_20.shape"
      ],
      "metadata": {
        "colab": {
          "base_uri": "https://localhost:8080/"
        },
        "id": "MfIARxPb0Kam",
        "outputId": "74a61f7b-4fc9-4455-a3f0-221a0795e9d5"
      },
      "execution_count": 217,
      "outputs": [
        {
          "output_type": "execute_result",
          "data": {
            "text/plain": [
              "False"
            ]
          },
          "metadata": {},
          "execution_count": 217
        }
      ]
    },
    {
      "cell_type": "code",
      "source": [
        "df_away_14_15.League.unique()"
      ],
      "metadata": {
        "colab": {
          "base_uri": "https://localhost:8080/"
        },
        "id": "qHke6nFF0Tmu",
        "outputId": "3f5973c1-c26a-45e5-ba12-6a9f3ea023aa"
      },
      "execution_count": 218,
      "outputs": [
        {
          "output_type": "execute_result",
          "data": {
            "text/plain": [
              "array(['Premier League', 'Bundesliga', 'La Liga', 'French Ligue 1',\n",
              "       'Eredivisie', 'Serie A', 'Scottish Premiership'], dtype=object)"
            ]
          },
          "metadata": {},
          "execution_count": 218
        }
      ]
    },
    {
      "cell_type": "code",
      "source": [
        "df_away_19_20.League.unique()"
      ],
      "metadata": {
        "colab": {
          "base_uri": "https://localhost:8080/"
        },
        "id": "NYff4RPmiJNJ",
        "outputId": "175baa7c-3dbb-43ac-f155-c5b76c755b74"
      },
      "execution_count": 219,
      "outputs": [
        {
          "output_type": "execute_result",
          "data": {
            "text/plain": [
              "array(['Premier League', 'Bundesliga', 'La Liga', 'French Ligue 1',\n",
              "       'Serie A', 'Scottish Premiership'], dtype=object)"
            ]
          },
          "metadata": {},
          "execution_count": 219
        }
      ]
    },
    {
      "cell_type": "code",
      "source": [
        "df_away_14_15.League.unique() == df_away_19_20.League.unique()"
      ],
      "metadata": {
        "colab": {
          "base_uri": "https://localhost:8080/"
        },
        "id": "TzmxzzwFhfKU",
        "outputId": "2de065c5-ee12-4c6a-f069-78488d408526"
      },
      "execution_count": 220,
      "outputs": [
        {
          "output_type": "stream",
          "name": "stderr",
          "text": [
            "/usr/local/lib/python3.7/dist-packages/ipykernel_launcher.py:1: DeprecationWarning: elementwise comparison failed; this will raise an error in the future.\n",
            "  \"\"\"Entry point for launching an IPython kernel.\n"
          ]
        },
        {
          "output_type": "execute_result",
          "data": {
            "text/plain": [
              "False"
            ]
          },
          "metadata": {},
          "execution_count": 220
        }
      ]
    },
    {
      "cell_type": "code",
      "source": [
        "df_away_14_15.Team.unique()"
      ],
      "metadata": {
        "id": "VE38K1iO1DRk",
        "colab": {
          "base_uri": "https://localhost:8080/"
        },
        "outputId": "094f59c6-c8d4-4ad2-91cd-6a0e489cf13e"
      },
      "execution_count": 221,
      "outputs": [
        {
          "output_type": "execute_result",
          "data": {
            "text/plain": [
              "array(['Burnley', 'Liverpool', 'Queens Park Rangers', 'Leicester City',\n",
              "       'Aston Villa', 'Chelsea', 'Swansea City', 'West Ham United',\n",
              "       'Everton', 'Crystal Palace', 'Hull City', 'Stoke City',\n",
              "       'Tottenham Hotspur', 'Sunderland', 'West Bromwich Albion',\n",
              "       'Manchester City', 'Southampton', 'Arsenal', 'Newcastle United',\n",
              "       'Manchester United', 'Borussia Dortmund', 'Bayern Munich',\n",
              "       'Hamburger SV', \"Borussia M'gladbach\", 'SC Paderborn 07',\n",
              "       '1. FC Koln', 'Werder Bremen', 'FC Schalke 04',\n",
              "       'Eintracht Frankfurt', 'SC Freiburg', 'TSG 1899 Hoffenheim',\n",
              "       'VfL Wolfsburg', 'Bayer Leverkusen', 'VfB Stuttgart', 'Hertha BSC',\n",
              "       '1. FSV Mainz 05', 'Hannover 96', 'FC Augsburg', 'Real Madrid',\n",
              "       'Barcelona', 'Atletico Madrid', 'Valencia', 'Deportivo La Coruna',\n",
              "       'Real Sociedad', 'Sevilla', 'Eibar', 'Athletic Bilbao', 'Levante',\n",
              "       'Villarreal', 'Espanyol', 'UD Almeria', 'Malaga', 'Getafe',\n",
              "       'Celta Vigo', 'Granada CF', 'Rayo Vallecano', 'Cordoba',\n",
              "       'Elche CF', 'Paris Saint-Germain', 'Olympique Marseille',\n",
              "       'FC Nantes', 'AS Saint-Etienne', 'Olympique Lyonnais',\n",
              "       'Girondins De Bordeaux', 'Lille OSC', 'RC Lens', 'Toulouse',\n",
              "       'FC Metz', 'Lorient', 'Stade Reims', 'Montpellier HSC', 'Caen',\n",
              "       'Stade Rennes', 'En Avant Guingamp', 'AS Monaco', 'OGC Nice',\n",
              "       'SC Bastia', 'Evian Thonon Gaillard', 'PEC Zwolle', 'FC Dordrecht',\n",
              "       'AZ Alkmaar', 'Heracles Almelo', 'Willem II Tilburg',\n",
              "       'Go Ahead Eagles', 'SC Cambuur', 'NAC Breda', 'Vitesse Arnhem',\n",
              "       'ADO Den Haag', 'FC Groningen', 'PSV Eindhoven', 'SBV Excelsior',\n",
              "       'FC Twente', 'AFC Ajax', 'SC Heerenveen', 'FC Utrecht',\n",
              "       'Feyenoord', 'Juventus', 'Internazionale', 'AC Milan', 'Chievo',\n",
              "       'Napoli', 'Empoli', 'AS Roma', 'Cagliari', 'Sassuolo',\n",
              "       'Fiorentina', 'Sampdoria', 'Udinese', 'Hellas Verona', 'SS Lazio',\n",
              "       'Genoa', 'Palermo', 'AC Cesena', 'Atalanta', 'Parma', 'Torino',\n",
              "       'Aberdeen', 'Dundee United', 'Dundee', 'Inverness Cali',\n",
              "       'Motherwell', 'Partick Thistle', 'Hamilton Academical',\n",
              "       'Kilmarnock', 'Celtic', 'St Johnstone', 'Ross County', 'St Mirren'],\n",
              "      dtype=object)"
            ]
          },
          "metadata": {},
          "execution_count": 221
        }
      ]
    },
    {
      "cell_type": "code",
      "source": [
        "df_away_19_20.Team.unique()"
      ],
      "metadata": {
        "colab": {
          "base_uri": "https://localhost:8080/"
        },
        "id": "3Impjd4JrIwp",
        "outputId": "bd6513c6-f22c-4b42-d5ce-5d26efac3db3"
      },
      "execution_count": 222,
      "outputs": [
        {
          "output_type": "execute_result",
          "data": {
            "text/plain": [
              "array(['Newcastle United', 'Crystal Palace', 'Tottenham Hotspur',\n",
              "       'Brighton & Hove Albion', 'Chelsea', 'Norwich City', 'Southampton',\n",
              "       'Sheffield United', 'Manchester City', 'Everton',\n",
              "       'Wolverhampton Wanderers', 'AFC Bournemouth', 'Burnley',\n",
              "       'Liverpool', 'Leicester City', 'Aston Villa', 'Arsenal',\n",
              "       'Manchester United', 'Watford', 'West Ham United', 'Werder Bremen',\n",
              "       'Borussia Dortmund', \"Borussia M'gladbach\", '1. FC Union Berlin',\n",
              "       'Bayern Munich', 'RB Leipzig', 'VfL Wolfsburg',\n",
              "       'Fortuna Dusseldorf', 'Bayer Leverkusen', 'Eintracht Frankfurt',\n",
              "       'SC Freiburg', 'FC Augsburg', '1. FC Koln', 'FC Schalke 04',\n",
              "       'TSG 1899 Hoffenheim', 'Hertha BSC', '1. FSV Mainz 05',\n",
              "       'SC Paderborn 07', 'Real Sociedad', 'Getafe', 'Levante',\n",
              "       'Granada CF', 'Barcelona', 'Sevilla', 'Athletic Bilbao',\n",
              "       'Atletico Madrid', 'Celta Vigo', 'Real Valladolid', 'Valencia',\n",
              "       'CD Leganes', 'Eibar', 'CD Alaves', 'Espanyol', 'Real Betis',\n",
              "       'Osasuna', 'RCD Mallorca', 'Real Madrid', 'Villarreal',\n",
              "       'Angers SCO', 'Olympique Marseille', 'Paris Saint-Germain',\n",
              "       'RC Strasbourg', 'Olympique Lyonnais', 'Girondins De Bordeaux',\n",
              "       'AS Monaco', 'AS Saint-Etienne', 'Lille OSC', 'Toulouse',\n",
              "       'Stade Rennes', 'Stade Reims', 'Nimes Olympique', 'Stade Brest',\n",
              "       'FC Metz', 'Dijon FCO', 'OGC Nice', 'Montpellier HSC', 'FC Nantes',\n",
              "       'Amiens SC', 'Juventus', 'Udinese', 'SPAL', 'Parma', 'AS Roma',\n",
              "       'AC Milan', 'Internazionale', 'Genoa', 'Cagliari', 'Lecce',\n",
              "       'Sassuolo', 'SS Lazio', 'Fiorentina', 'Brescia', 'Hellas Verona',\n",
              "       'Napoli', 'Sampdoria', 'Bologna', 'Atalanta', 'Torino',\n",
              "       'Ross County', 'Heart of Midlothian', 'Hibernian', 'Aberdeen',\n",
              "       'Livingston', 'Kilmarnock', 'St Mirren', 'Hamilton Academical',\n",
              "       'Celtic', 'Motherwell', 'St Johnstone', 'Rangers'], dtype=object)"
            ]
          },
          "metadata": {},
          "execution_count": 222
        }
      ]
    },
    {
      "cell_type": "code",
      "source": [
        "df_away_14_15[df_away_14_15.League==\"Premier League\"].Team"
      ],
      "metadata": {
        "colab": {
          "base_uri": "https://localhost:8080/"
        },
        "id": "zp3fCfoRrKK_",
        "outputId": "4f801577-2066-436d-fc21-b78a3f65efcd"
      },
      "execution_count": 223,
      "outputs": [
        {
          "output_type": "execute_result",
          "data": {
            "text/plain": [
              "0                  Burnley\n",
              "1                Liverpool\n",
              "2      Queens Park Rangers\n",
              "3           Leicester City\n",
              "4              Aston Villa\n",
              "5                  Chelsea\n",
              "6             Swansea City\n",
              "7          West Ham United\n",
              "8                  Everton\n",
              "9           Crystal Palace\n",
              "10               Hull City\n",
              "11              Stoke City\n",
              "12       Tottenham Hotspur\n",
              "13              Sunderland\n",
              "14    West Bromwich Albion\n",
              "15         Manchester City\n",
              "16             Southampton\n",
              "17                 Arsenal\n",
              "18        Newcastle United\n",
              "19       Manchester United\n",
              "Name: Team, dtype: object"
            ]
          },
          "metadata": {},
          "execution_count": 223
        }
      ]
    },
    {
      "cell_type": "code",
      "source": [
        "df_away_19_20[df_away_19_20.League==\"Premier League\"].Team"
      ],
      "metadata": {
        "colab": {
          "base_uri": "https://localhost:8080/"
        },
        "id": "PJlzukR6wGHm",
        "outputId": "d8214814-7d03-4b54-d113-c987d8608402"
      },
      "execution_count": 224,
      "outputs": [
        {
          "output_type": "execute_result",
          "data": {
            "text/plain": [
              "0            Newcastle United\n",
              "1              Crystal Palace\n",
              "2           Tottenham Hotspur\n",
              "3      Brighton & Hove Albion\n",
              "4                     Chelsea\n",
              "5                Norwich City\n",
              "6                 Southampton\n",
              "7            Sheffield United\n",
              "8             Manchester City\n",
              "9                     Everton\n",
              "10    Wolverhampton Wanderers\n",
              "11            AFC Bournemouth\n",
              "12                    Burnley\n",
              "13                  Liverpool\n",
              "14             Leicester City\n",
              "15                Aston Villa\n",
              "16                    Arsenal\n",
              "17          Manchester United\n",
              "18                    Watford\n",
              "19            West Ham United\n",
              "Name: Team, dtype: object"
            ]
          },
          "metadata": {},
          "execution_count": 224
        }
      ]
    },
    {
      "cell_type": "code",
      "source": [
        "df_away_14_15[\"Avg Away Attendance\"] = df_away_14_15[\"Avg Away Attendance\"].apply(lambda a: int(a.replace(',', '')))\n",
        "df_away_19_20[\"Avg Away Attendance\"] = df_away_19_20[\"Avg Away Attendance\"].apply(lambda a: int(a.replace(',', '')))\n",
        "\n",
        "df_away_14_15[\"Total Away Attendance\"] = df_away_14_15[\"Total Away Attendance\"].apply(lambda a: int(a.replace(',', '')))\n",
        "df_away_19_20[\"Total Away Attendance\"] = df_away_19_20[\"Total Away Attendance\"].apply(lambda a: int(a.replace(',', '')))\n",
        "\n",
        "df_away_14_15[\"Highest Away Attendance\"] = df_away_14_15[\"Highest Away Attendance\"].apply(lambda a: int(a.replace(',', '')))\n",
        "df_away_19_20[\"Highest Away Attendance\"] = df_away_19_20[\"Highest Away Attendance\"].apply(lambda a: int(a.replace(',', '')))\n",
        "\n",
        "df_away_14_15[\"Lowest Away Attendance\"] = df_away_14_15[\"Lowest Away Attendance\"].apply(lambda a: int(a.replace(',', '')))\n",
        "df_away_19_20[\"Lowest Away Attendance\"] = df_away_19_20[\"Lowest Away Attendance\"].apply(lambda a: int(a.replace(',', '')))"
      ],
      "metadata": {
        "id": "LLh-kLE4_TrM"
      },
      "execution_count": 225,
      "outputs": []
    },
    {
      "cell_type": "code",
      "source": [
        "league_away_14_15 = df_away_14_15.groupby(\"League\")#.get_group(\"Premier League\")\n",
        "agg_away_14_15 = league_away_14_15.agg(\n",
        "    {\n",
        "        'Avg Away Attendance' : 'sum', \n",
        "        'Total Away Attendance' : 'sum', \n",
        "        'Highest Away Attendance' : 'sum',\n",
        "        'Lowest Away Attendance' : 'sum',\n",
        "     }\n",
        ")\n",
        "\n",
        "league_away_19_20 = df_away_19_20.groupby(\"League\")#.get_group(\"Premier League\")\n",
        "agg_away_19_20 = league_away_19_20.agg(\n",
        "    {\n",
        "        'Avg Away Attendance' : 'sum', \n",
        "        'Total Away Attendance' : 'sum', \n",
        "        'Highest Away Attendance' : 'sum',\n",
        "        'Lowest Away Attendance' : 'sum',\n",
        "     }\n",
        ")"
      ],
      "metadata": {
        "id": "ecdykbhbztBu"
      },
      "execution_count": 226,
      "outputs": []
    },
    {
      "cell_type": "code",
      "source": [
        "agg_away_19_20.head()"
      ],
      "metadata": {
        "colab": {
          "base_uri": "https://localhost:8080/",
          "height": 238
        },
        "id": "ZHMA7G2mHPco",
        "outputId": "4879af28-7a46-4a5c-d473-fc9f0aaeb86c"
      },
      "execution_count": 227,
      "outputs": [
        {
          "output_type": "execute_result",
          "data": {
            "text/plain": [
              "                      Avg Away Attendance  Total Away Attendance  \\\n",
              "League                                                             \n",
              "Bundesliga                         739058                7832098   \n",
              "French Ligue 1                     444189                3637485   \n",
              "La Liga                            581402                6814151   \n",
              "Premier League                     784830                9984333   \n",
              "Scottish Premiership               180803                2376777   \n",
              "\n",
              "                      Highest Away Attendance  Lowest Away Attendance  \n",
              "League                                                                 \n",
              "Bundesliga                            1404219                  304546  \n",
              "French Ligue 1                         924775                  186397  \n",
              "La Liga                               1421641                  163008  \n",
              "Premier League                        1357301                  278829  \n",
              "Scottish Premiership                   645799                   25578  "
            ],
            "text/html": [
              "\n",
              "  <div id=\"df-fec1e2d6-bde9-4e38-a81a-a206292ec096\">\n",
              "    <div class=\"colab-df-container\">\n",
              "      <div>\n",
              "<style scoped>\n",
              "    .dataframe tbody tr th:only-of-type {\n",
              "        vertical-align: middle;\n",
              "    }\n",
              "\n",
              "    .dataframe tbody tr th {\n",
              "        vertical-align: top;\n",
              "    }\n",
              "\n",
              "    .dataframe thead th {\n",
              "        text-align: right;\n",
              "    }\n",
              "</style>\n",
              "<table border=\"1\" class=\"dataframe\">\n",
              "  <thead>\n",
              "    <tr style=\"text-align: right;\">\n",
              "      <th></th>\n",
              "      <th>Avg Away Attendance</th>\n",
              "      <th>Total Away Attendance</th>\n",
              "      <th>Highest Away Attendance</th>\n",
              "      <th>Lowest Away Attendance</th>\n",
              "    </tr>\n",
              "    <tr>\n",
              "      <th>League</th>\n",
              "      <th></th>\n",
              "      <th></th>\n",
              "      <th></th>\n",
              "      <th></th>\n",
              "    </tr>\n",
              "  </thead>\n",
              "  <tbody>\n",
              "    <tr>\n",
              "      <th>Bundesliga</th>\n",
              "      <td>739058</td>\n",
              "      <td>7832098</td>\n",
              "      <td>1404219</td>\n",
              "      <td>304546</td>\n",
              "    </tr>\n",
              "    <tr>\n",
              "      <th>French Ligue 1</th>\n",
              "      <td>444189</td>\n",
              "      <td>3637485</td>\n",
              "      <td>924775</td>\n",
              "      <td>186397</td>\n",
              "    </tr>\n",
              "    <tr>\n",
              "      <th>La Liga</th>\n",
              "      <td>581402</td>\n",
              "      <td>6814151</td>\n",
              "      <td>1421641</td>\n",
              "      <td>163008</td>\n",
              "    </tr>\n",
              "    <tr>\n",
              "      <th>Premier League</th>\n",
              "      <td>784830</td>\n",
              "      <td>9984333</td>\n",
              "      <td>1357301</td>\n",
              "      <td>278829</td>\n",
              "    </tr>\n",
              "    <tr>\n",
              "      <th>Scottish Premiership</th>\n",
              "      <td>180803</td>\n",
              "      <td>2376777</td>\n",
              "      <td>645799</td>\n",
              "      <td>25578</td>\n",
              "    </tr>\n",
              "  </tbody>\n",
              "</table>\n",
              "</div>\n",
              "      <button class=\"colab-df-convert\" onclick=\"convertToInteractive('df-fec1e2d6-bde9-4e38-a81a-a206292ec096')\"\n",
              "              title=\"Convert this dataframe to an interactive table.\"\n",
              "              style=\"display:none;\">\n",
              "        \n",
              "  <svg xmlns=\"http://www.w3.org/2000/svg\" height=\"24px\"viewBox=\"0 0 24 24\"\n",
              "       width=\"24px\">\n",
              "    <path d=\"M0 0h24v24H0V0z\" fill=\"none\"/>\n",
              "    <path d=\"M18.56 5.44l.94 2.06.94-2.06 2.06-.94-2.06-.94-.94-2.06-.94 2.06-2.06.94zm-11 1L8.5 8.5l.94-2.06 2.06-.94-2.06-.94L8.5 2.5l-.94 2.06-2.06.94zm10 10l.94 2.06.94-2.06 2.06-.94-2.06-.94-.94-2.06-.94 2.06-2.06.94z\"/><path d=\"M17.41 7.96l-1.37-1.37c-.4-.4-.92-.59-1.43-.59-.52 0-1.04.2-1.43.59L10.3 9.45l-7.72 7.72c-.78.78-.78 2.05 0 2.83L4 21.41c.39.39.9.59 1.41.59.51 0 1.02-.2 1.41-.59l7.78-7.78 2.81-2.81c.8-.78.8-2.07 0-2.86zM5.41 20L4 18.59l7.72-7.72 1.47 1.35L5.41 20z\"/>\n",
              "  </svg>\n",
              "      </button>\n",
              "      \n",
              "  <style>\n",
              "    .colab-df-container {\n",
              "      display:flex;\n",
              "      flex-wrap:wrap;\n",
              "      gap: 12px;\n",
              "    }\n",
              "\n",
              "    .colab-df-convert {\n",
              "      background-color: #E8F0FE;\n",
              "      border: none;\n",
              "      border-radius: 50%;\n",
              "      cursor: pointer;\n",
              "      display: none;\n",
              "      fill: #1967D2;\n",
              "      height: 32px;\n",
              "      padding: 0 0 0 0;\n",
              "      width: 32px;\n",
              "    }\n",
              "\n",
              "    .colab-df-convert:hover {\n",
              "      background-color: #E2EBFA;\n",
              "      box-shadow: 0px 1px 2px rgba(60, 64, 67, 0.3), 0px 1px 3px 1px rgba(60, 64, 67, 0.15);\n",
              "      fill: #174EA6;\n",
              "    }\n",
              "\n",
              "    [theme=dark] .colab-df-convert {\n",
              "      background-color: #3B4455;\n",
              "      fill: #D2E3FC;\n",
              "    }\n",
              "\n",
              "    [theme=dark] .colab-df-convert:hover {\n",
              "      background-color: #434B5C;\n",
              "      box-shadow: 0px 1px 3px 1px rgba(0, 0, 0, 0.15);\n",
              "      filter: drop-shadow(0px 1px 2px rgba(0, 0, 0, 0.3));\n",
              "      fill: #FFFFFF;\n",
              "    }\n",
              "  </style>\n",
              "\n",
              "      <script>\n",
              "        const buttonEl =\n",
              "          document.querySelector('#df-fec1e2d6-bde9-4e38-a81a-a206292ec096 button.colab-df-convert');\n",
              "        buttonEl.style.display =\n",
              "          google.colab.kernel.accessAllowed ? 'block' : 'none';\n",
              "\n",
              "        async function convertToInteractive(key) {\n",
              "          const element = document.querySelector('#df-fec1e2d6-bde9-4e38-a81a-a206292ec096');\n",
              "          const dataTable =\n",
              "            await google.colab.kernel.invokeFunction('convertToInteractive',\n",
              "                                                     [key], {});\n",
              "          if (!dataTable) return;\n",
              "\n",
              "          const docLinkHtml = 'Like what you see? Visit the ' +\n",
              "            '<a target=\"_blank\" href=https://colab.research.google.com/notebooks/data_table.ipynb>data table notebook</a>'\n",
              "            + ' to learn more about interactive tables.';\n",
              "          element.innerHTML = '';\n",
              "          dataTable['output_type'] = 'display_data';\n",
              "          await google.colab.output.renderOutput(dataTable, element);\n",
              "          const docLink = document.createElement('div');\n",
              "          docLink.innerHTML = docLinkHtml;\n",
              "          element.appendChild(docLink);\n",
              "        }\n",
              "      </script>\n",
              "    </div>\n",
              "  </div>\n",
              "  "
            ]
          },
          "metadata": {},
          "execution_count": 227
        }
      ]
    },
    {
      "cell_type": "code",
      "source": [
        "league_away_14_15.sum()"
      ],
      "metadata": {
        "colab": {
          "base_uri": "https://localhost:8080/",
          "height": 300
        },
        "id": "hjR62zZfTspa",
        "outputId": "e368ff36-ff5b-4478-b512-c370bf5a0e96"
      },
      "execution_count": 228,
      "outputs": [
        {
          "output_type": "execute_result",
          "data": {
            "text/plain": [
              "                      Avg Away Attendance  Total Away Attendance  \\\n",
              "League                                                             \n",
              "Bundesliga                         784687               13339654   \n",
              "Eredivisie                         337436                5736390   \n",
              "French Ligue 1                     441541                8199604   \n",
              "La Liga                            535535               10175195   \n",
              "Premier League                     723408               13744770   \n",
              "Scottish Premiership               103636                1967140   \n",
              "Serie A                            444433                8444267   \n",
              "\n",
              "                      Highest Away Attendance  Lowest Away Attendance  \n",
              "League                                                                 \n",
              "Bundesliga                            1443592                  276596  \n",
              "Eredivisie                             892411                   63436  \n",
              "French Ligue 1                        1062974                  150698  \n",
              "La Liga                               1598361                   99069  \n",
              "Premier League                        1491436                  353266  \n",
              "Scottish Premiership                   524471                   27759  \n",
              "Serie A                                951139                  150386  "
            ],
            "text/html": [
              "\n",
              "  <div id=\"df-7e392710-d535-4ea4-a89d-93ac8a3e84da\">\n",
              "    <div class=\"colab-df-container\">\n",
              "      <div>\n",
              "<style scoped>\n",
              "    .dataframe tbody tr th:only-of-type {\n",
              "        vertical-align: middle;\n",
              "    }\n",
              "\n",
              "    .dataframe tbody tr th {\n",
              "        vertical-align: top;\n",
              "    }\n",
              "\n",
              "    .dataframe thead th {\n",
              "        text-align: right;\n",
              "    }\n",
              "</style>\n",
              "<table border=\"1\" class=\"dataframe\">\n",
              "  <thead>\n",
              "    <tr style=\"text-align: right;\">\n",
              "      <th></th>\n",
              "      <th>Avg Away Attendance</th>\n",
              "      <th>Total Away Attendance</th>\n",
              "      <th>Highest Away Attendance</th>\n",
              "      <th>Lowest Away Attendance</th>\n",
              "    </tr>\n",
              "    <tr>\n",
              "      <th>League</th>\n",
              "      <th></th>\n",
              "      <th></th>\n",
              "      <th></th>\n",
              "      <th></th>\n",
              "    </tr>\n",
              "  </thead>\n",
              "  <tbody>\n",
              "    <tr>\n",
              "      <th>Bundesliga</th>\n",
              "      <td>784687</td>\n",
              "      <td>13339654</td>\n",
              "      <td>1443592</td>\n",
              "      <td>276596</td>\n",
              "    </tr>\n",
              "    <tr>\n",
              "      <th>Eredivisie</th>\n",
              "      <td>337436</td>\n",
              "      <td>5736390</td>\n",
              "      <td>892411</td>\n",
              "      <td>63436</td>\n",
              "    </tr>\n",
              "    <tr>\n",
              "      <th>French Ligue 1</th>\n",
              "      <td>441541</td>\n",
              "      <td>8199604</td>\n",
              "      <td>1062974</td>\n",
              "      <td>150698</td>\n",
              "    </tr>\n",
              "    <tr>\n",
              "      <th>La Liga</th>\n",
              "      <td>535535</td>\n",
              "      <td>10175195</td>\n",
              "      <td>1598361</td>\n",
              "      <td>99069</td>\n",
              "    </tr>\n",
              "    <tr>\n",
              "      <th>Premier League</th>\n",
              "      <td>723408</td>\n",
              "      <td>13744770</td>\n",
              "      <td>1491436</td>\n",
              "      <td>353266</td>\n",
              "    </tr>\n",
              "    <tr>\n",
              "      <th>Scottish Premiership</th>\n",
              "      <td>103636</td>\n",
              "      <td>1967140</td>\n",
              "      <td>524471</td>\n",
              "      <td>27759</td>\n",
              "    </tr>\n",
              "    <tr>\n",
              "      <th>Serie A</th>\n",
              "      <td>444433</td>\n",
              "      <td>8444267</td>\n",
              "      <td>951139</td>\n",
              "      <td>150386</td>\n",
              "    </tr>\n",
              "  </tbody>\n",
              "</table>\n",
              "</div>\n",
              "      <button class=\"colab-df-convert\" onclick=\"convertToInteractive('df-7e392710-d535-4ea4-a89d-93ac8a3e84da')\"\n",
              "              title=\"Convert this dataframe to an interactive table.\"\n",
              "              style=\"display:none;\">\n",
              "        \n",
              "  <svg xmlns=\"http://www.w3.org/2000/svg\" height=\"24px\"viewBox=\"0 0 24 24\"\n",
              "       width=\"24px\">\n",
              "    <path d=\"M0 0h24v24H0V0z\" fill=\"none\"/>\n",
              "    <path d=\"M18.56 5.44l.94 2.06.94-2.06 2.06-.94-2.06-.94-.94-2.06-.94 2.06-2.06.94zm-11 1L8.5 8.5l.94-2.06 2.06-.94-2.06-.94L8.5 2.5l-.94 2.06-2.06.94zm10 10l.94 2.06.94-2.06 2.06-.94-2.06-.94-.94-2.06-.94 2.06-2.06.94z\"/><path d=\"M17.41 7.96l-1.37-1.37c-.4-.4-.92-.59-1.43-.59-.52 0-1.04.2-1.43.59L10.3 9.45l-7.72 7.72c-.78.78-.78 2.05 0 2.83L4 21.41c.39.39.9.59 1.41.59.51 0 1.02-.2 1.41-.59l7.78-7.78 2.81-2.81c.8-.78.8-2.07 0-2.86zM5.41 20L4 18.59l7.72-7.72 1.47 1.35L5.41 20z\"/>\n",
              "  </svg>\n",
              "      </button>\n",
              "      \n",
              "  <style>\n",
              "    .colab-df-container {\n",
              "      display:flex;\n",
              "      flex-wrap:wrap;\n",
              "      gap: 12px;\n",
              "    }\n",
              "\n",
              "    .colab-df-convert {\n",
              "      background-color: #E8F0FE;\n",
              "      border: none;\n",
              "      border-radius: 50%;\n",
              "      cursor: pointer;\n",
              "      display: none;\n",
              "      fill: #1967D2;\n",
              "      height: 32px;\n",
              "      padding: 0 0 0 0;\n",
              "      width: 32px;\n",
              "    }\n",
              "\n",
              "    .colab-df-convert:hover {\n",
              "      background-color: #E2EBFA;\n",
              "      box-shadow: 0px 1px 2px rgba(60, 64, 67, 0.3), 0px 1px 3px 1px rgba(60, 64, 67, 0.15);\n",
              "      fill: #174EA6;\n",
              "    }\n",
              "\n",
              "    [theme=dark] .colab-df-convert {\n",
              "      background-color: #3B4455;\n",
              "      fill: #D2E3FC;\n",
              "    }\n",
              "\n",
              "    [theme=dark] .colab-df-convert:hover {\n",
              "      background-color: #434B5C;\n",
              "      box-shadow: 0px 1px 3px 1px rgba(0, 0, 0, 0.15);\n",
              "      filter: drop-shadow(0px 1px 2px rgba(0, 0, 0, 0.3));\n",
              "      fill: #FFFFFF;\n",
              "    }\n",
              "  </style>\n",
              "\n",
              "      <script>\n",
              "        const buttonEl =\n",
              "          document.querySelector('#df-7e392710-d535-4ea4-a89d-93ac8a3e84da button.colab-df-convert');\n",
              "        buttonEl.style.display =\n",
              "          google.colab.kernel.accessAllowed ? 'block' : 'none';\n",
              "\n",
              "        async function convertToInteractive(key) {\n",
              "          const element = document.querySelector('#df-7e392710-d535-4ea4-a89d-93ac8a3e84da');\n",
              "          const dataTable =\n",
              "            await google.colab.kernel.invokeFunction('convertToInteractive',\n",
              "                                                     [key], {});\n",
              "          if (!dataTable) return;\n",
              "\n",
              "          const docLinkHtml = 'Like what you see? Visit the ' +\n",
              "            '<a target=\"_blank\" href=https://colab.research.google.com/notebooks/data_table.ipynb>data table notebook</a>'\n",
              "            + ' to learn more about interactive tables.';\n",
              "          element.innerHTML = '';\n",
              "          dataTable['output_type'] = 'display_data';\n",
              "          await google.colab.output.renderOutput(dataTable, element);\n",
              "          const docLink = document.createElement('div');\n",
              "          docLink.innerHTML = docLinkHtml;\n",
              "          element.appendChild(docLink);\n",
              "        }\n",
              "      </script>\n",
              "    </div>\n",
              "  </div>\n",
              "  "
            ]
          },
          "metadata": {},
          "execution_count": 228
        }
      ]
    },
    {
      "cell_type": "code",
      "source": [
        "#plot data\n",
        "fig, ax = plt.subplots(figsize=(20,12))\n",
        "plt.ticklabel_format(style='plain', axis='y', useOffset=False)\n",
        "\n",
        "sns.barplot(x=league_away_19_20.count().index, y=\"Highest Away Attendance\", data=league_away_19_20.sum(), color = 'r', label='Away games 2014-2015', alpha=0.5)\n",
        "sns.barplot(x=league_away_14_15.count().index, y=\"Highest Away Attendance\", data=league_away_14_15.sum(), color = 'black', label='Away games 2019-2020', alpha=0.5)\n",
        "\n",
        "plt.legend();\n",
        "sns.despine(left=True, bottom=True);"
      ],
      "metadata": {
        "colab": {
          "base_uri": "https://localhost:8080/",
          "height": 714
        },
        "id": "PjbGhzSuJ3am",
        "outputId": "df9fd49c-2508-44c7-ba57-69851bdfc2ba"
      },
      "execution_count": 229,
      "outputs": [
        {
          "output_type": "display_data",
          "data": {
            "text/plain": [
              "<Figure size 1440x864 with 1 Axes>"
            ],
            "image/png": "[encoded data removed]"
          },
          "metadata": {
            "needs_background": "light"
          }
        }
      ]
    },
    {
      "cell_type": "code",
      "source": [
        "#plot data\n",
        "fig, ax = plt.subplots(figsize=(20,12))\n",
        "plt.ticklabel_format(style='plain', axis='y', useOffset=False)\n",
        "\n",
        "sns.barplot(x=league_away_19_20.count().index, y=\"Total Away Attendance\", data=league_away_19_20.sum(), color = 'r', label='Away games 2014-2015', alpha=0.5)\n",
        "sns.barplot(x=league_away_14_15.count().index, y=\"Total Away Attendance\", data=league_away_14_15.sum(), color = 'black', label='Away games 2019-2020', alpha=0.5)\n",
        "\n",
        "plt.legend();\n",
        "sns.despine(left=True, bottom=True);"
      ],
      "metadata": {
        "colab": {
          "base_uri": "https://localhost:8080/",
          "height": 714
        },
        "id": "oFZ5MIQQbZZK",
        "outputId": "15459f3a-ab86-4f41-a6b9-d22e78b44195"
      },
      "execution_count": 230,
      "outputs": [
        {
          "output_type": "display_data",
          "data": {
            "text/plain": [
              "<Figure size 1440x864 with 1 Axes>"
            ],
            "image/png": "[encoded data removed]"
          },
          "metadata": {
            "needs_background": "light"
          }
        }
      ]
    },
    {
      "cell_type": "code",
      "source": [
        "#plot data\n",
        "fig, ax = plt.subplots(figsize=(20,12))\n",
        "plt.ticklabel_format(style='plain', axis='y', useOffset=False)\n",
        "\n",
        "sns.barplot(x=league_away_19_20.count().index, y=\"Highest Away Attendance\", data=league_away_19_20.sum(), color = 'r', label='Away games 2014-2015', alpha=0.5)\n",
        "sns.barplot(x=league_away_14_15.count().index, y=\"Highest Away Attendance\", data=league_away_14_15.sum(), color = 'black', label='Away games 2019-2020', alpha=0.5)\n",
        "\n",
        "plt.legend();\n",
        "sns.despine(left=True, bottom=True);"
      ],
      "metadata": {
        "colab": {
          "base_uri": "https://localhost:8080/",
          "height": 714
        },
        "id": "3n_1gjR-cAhP",
        "outputId": "76a37fb7-db82-4885-f489-e3372118f93d"
      },
      "execution_count": 231,
      "outputs": [
        {
          "output_type": "display_data",
          "data": {
            "text/plain": [
              "<Figure size 1440x864 with 1 Axes>"
            ],
            "image/png": "[encoded data removed]"
          },
          "metadata": {
            "needs_background": "light"
          }
        }
      ]
    },
    {
      "cell_type": "code",
      "source": [
        "#plot data\n",
        "fig, ax = plt.subplots(figsize=(20,12))\n",
        "\n",
        "sns.barplot(x=league_away_19_20.count().index, y=\"Lowest Away Attendance\", data=league_away_19_20.sum(), color = 'r', label='Away games 2014-2015', alpha=0.5)\n",
        "sns.barplot(x=league_away_14_15.count().index, y=\"Lowest Away Attendance\", data=league_away_14_15.sum(), color = 'black', label='Away games 2019-2020', alpha=0.5)\n",
        "\n",
        "plt.legend();\n",
        "sns.despine(left=True, bottom=True);"
      ],
      "metadata": {
        "colab": {
          "base_uri": "https://localhost:8080/",
          "height": 714
        },
        "id": "iJLOKWTocZFJ",
        "outputId": "347fec11-a8df-4c9b-f8be-2b50dba5aaff"
      },
      "execution_count": 232,
      "outputs": [
        {
          "output_type": "display_data",
          "data": {
            "text/plain": [
              "<Figure size 1440x864 with 1 Axes>"
            ],
            "image/png": "[encoded data removed]"
          },
          "metadata": {
            "needs_background": "light"
          }
        }
      ]
    },
    {
      "cell_type": "code",
      "source": [
        ""
      ],
      "metadata": {
        "id": "YH4Kd8RqmKZn"
      },
      "execution_count": 232,
      "outputs": []
    },
    {
      "cell_type": "code",
      "source": [
        ""
      ],
      "metadata": {
        "id": "qZRTdE8SmLCm"
      },
      "execution_count": 232,
      "outputs": []
    }
  ],
  "metadata": {
    "kernelspec": {
      "display_name": "Python 3",
      "language": "python",
      "name": "python3"
    },
    "language_info": {
      "codemirror_mode": {
        "name": "ipython",
        "version": 3
      },
      "file_extension": ".py",
      "mimetype": "text/x-python",
      "name": "python",
      "nbconvert_exporter": "python",
      "pygments_lexer": "ipython3",
      "version": "3.6.2"
    },
    "colab": {
      "name": "Football Away Attendance.ipynb",
      "provenance": [],
      "collapsed_sections": []
    }
  },
  "nbformat": 4,
  "nbformat_minor": 0
}