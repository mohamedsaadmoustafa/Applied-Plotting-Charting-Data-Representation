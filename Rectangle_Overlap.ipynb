{
  "nbformat": 4,
  "nbformat_minor": 0,
  "metadata": {
    "colab": {
      "name": "Rectangle Overlap.ipynb",
      "provenance": []
    },
    "kernelspec": {
      "name": "python3",
      "display_name": "Python 3"
    },
    "language_info": {
      "name": "python"
    }
  },
  "cells": [
    {
      "cell_type": "code",
      "source": [
        "import numpy as np\n",
        "import matplotlib\n",
        "import matplotlib.pyplot as plt\n",
        "import random\n",
        "plt.style.use(\"seaborn\")\n",
        "\n",
        "#import warnings\n",
        "# warnings.filterwarnings(\"ignore\")"
      ],
      "metadata": {
        "id": "W8EnigGga-0s"
      },
      "execution_count": 1,
      "outputs": []
    },
    {
      "cell_type": "code",
      "source": [
        "class Rectangle:\n",
        "    def __init__(self, rect):\n",
        "         self.x1, self.y1, self.x2, self.y2 = rect\n",
        "         \n",
        "class Overlap:\n",
        "    def __init__(self, rec1=[1,1,1,1], rec2=[2,2,2,2]):\n",
        "        self.rec1, self.rec2 = Rectangle(rec1), Rectangle(rec2)\n",
        "        self.max_x1 = max(self.rec1.x1, self.rec2.x1)\n",
        "        self.max_y1 = max(self.rec1.y1, self.rec2.y1)\n",
        "        self.min_x2 = min(self.rec1.x2, self.rec2.x2)\n",
        "        self.min_y2 = min(self.rec1.y2, self.rec2.y2)\n",
        "        self.max_value = max(self.max_x1, self.max_y1)+10\n",
        "\n",
        "    def rectangle_plot(self, rec, angle=0, edgecolor='red', facecolor='none', lw=4):\n",
        "        xy = (rec.x1, rec.y1)\n",
        "        height = abs(rec.x1 - rec.x2)\n",
        "        width = abs(rec.y1 - rec.y2)\n",
        "        return matplotlib.patches.Rectangle(\n",
        "            xy, \n",
        "            width, \n",
        "            height, \n",
        "            angle = angle,\n",
        "            edgecolor = edgecolor,\n",
        "            facecolor = facecolor,\n",
        "            lw = lw,\n",
        "            fill=True,\n",
        "        )\n",
        "\n",
        "    def plot(self):\n",
        "        fig = plt.figure()\n",
        "        ax = fig.add_subplot(111)\n",
        "        \n",
        "        #ax.set_facecolor('xkcd:salmon')\n",
        "        ax.set_facecolor((1.0, 1.0, 1.0))\n",
        "        \n",
        "        # compare area: max aream min_area\n",
        "        ax.add_patch(self.rectangle_plot(self.rec1, edgecolor='pink', facecolor='pink', lw=2))\n",
        "        ax.add_patch(self.rectangle_plot(self.rec2, edgecolor='salmon', facecolor='none', lw=2))\n",
        "        plt.xlim([-5, 20])\n",
        "        plt.ylim([-5, 20])\n",
        "        plt.axis('off')\n",
        "        \n",
        "    @property\n",
        "    def intersection(self):\n",
        "        \"\"\"\n",
        "        Calculates the intersection between two rectangles.\n",
        "        \"\"\"\n",
        "        return max(0, self.min_x2 - self.max_x1 ) * max(0, self.min_y2 - self.max_y1)\n",
        "\n",
        "    def area(self, rec):\n",
        "        \"\"\"\n",
        "        Calculates the surface area.\n",
        "        \"\"\"\n",
        "        return (rec.x2 - rec.x1 + 1) * (rec.y2 - rec.y1 + 1)\n",
        "\n",
        "    @property\n",
        "    def iou(self):\n",
        "        \"\"\"\n",
        "        Calculates the intersection over unioun between two rectangles.\n",
        "        \"\"\"\n",
        "        #intersection = self.intersection()\n",
        "        area1, area2 = self.area(self.rec1), self.area(self.rec2)\n",
        "        iou = self.intersection / float(area1 + area2 - self.intersection)\n",
        "        # return the intersection over union value\n",
        "        return iou\n",
        "\n",
        "obj = Overlap(rec1=[1,1,14,17], rec2=[2,3,19,15])\n",
        "print(obj.intersection)\n",
        "print(obj.iou)\n",
        "obj.plot()"
      ],
      "metadata": {
        "colab": {
          "base_uri": "https://localhost:8080/",
          "height": 284
        },
        "id": "nqaEHfTmoFbq",
        "outputId": "11d0960d-9150-442f-cd5a-9ff4c1338db3"
      },
      "execution_count": 2,
      "outputs": [
        {
          "output_type": "stream",
          "name": "stdout",
          "text": [
            "144\n",
            "0.43902439024390244\n"
          ]
        },
        {
          "output_type": "display_data",
          "data": {
            "text/plain": [
              "<Figure size 432x288 with 1 Axes>"
            ],
            "image/png": "[encoded data removed]"
          },
          "metadata": {
            "needs_background": "light"
          }
        }
      ]
    }
  ]
}