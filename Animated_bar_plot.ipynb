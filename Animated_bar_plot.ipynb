{
  "nbformat": 4,
  "nbformat_minor": 0,
  "metadata": {
    "colab": {
      "name": "Animated bar plot",
      "provenance": []
    },
    "kernelspec": {
      "name": "python3",
      "display_name": "Python 3"
    },
    "language_info": {
      "name": "python"
    }
  },
  "cells": [
    {
      "cell_type": "markdown",
      "source": [
        "Dataset: [data.world](https://data.world/healthdatany/r2m7-fr63/workspace/file?filename=potentially-avoidable-antibiotic-prescribing-rates-for-acute-respiratory-infection-by-provider-count-1.csv)\n",
        "\n"
      ],
      "metadata": {
        "id": "1F8PQ8bGqDFz"
      }
    },
    {
      "cell_type": "code",
      "source": [
        "import seaborn as sns\n",
        "import pandas as pd \n",
        "import numpy as np \n",
        "import plotly.express as px\n",
        "\n",
        "pd.set_option('display.max_rows', None)\n",
        "pd.set_option('display.max_columns', None)"
      ],
      "metadata": {
        "id": "cj_O7VR1VTkk"
      },
      "execution_count": 1,
      "outputs": []
    },
    {
      "cell_type": "code",
      "source": [
        "df = pd.read_csv('/content/potentially-avoidable-antibiotic-prescribing-rates-for-acute-respiratory-infection-by-provider-count-1.csv')\n",
        "df.head()"
      ],
      "metadata": {
        "colab": {
          "base_uri": "https://localhost:8080/",
          "height": 268
        },
        "id": "9tDxtUSEZZE0",
        "outputId": "5425fc98-9fbd-4b7a-c266-e1121392fd97"
      },
      "execution_count": 2,
      "outputs": [
        {
          "output_type": "execute_result",
          "data": {
            "text/plain": [
              "   Year Provider County  Index Visits  Visits w/ Antibiotic Prescribed  \\\n",
              "0  2016          ALBANY          2768                              221   \n",
              "1  2016        ALLEGANY           432                              119   \n",
              "2  2016           BRONX         20637                             1297   \n",
              "3  2016          BROOME          2823                              386   \n",
              "4  2016     CATTARAUGUS           437                              107   \n",
              "\n",
              "   Observed Prescribing Rate per 100 Visits  \\\n",
              "0                                      7.98   \n",
              "1                                     27.55   \n",
              "2                                      6.28   \n",
              "3                                     13.67   \n",
              "4                                     24.49   \n",
              "\n",
              "   Risk Adjusted Prescribing Rate per 100 Visits  \n",
              "0                                           8.41  \n",
              "1                                          15.97  \n",
              "2                                           7.72  \n",
              "3                                          11.10  \n",
              "4                                          15.29  "
            ],
            "text/html": [
              "\n",
              "  <div id=\"df-7fa28352-3a76-4dea-bcfc-e6b8a0cb21fe\">\n",
              "    <div class=\"colab-df-container\">\n",
              "      <div>\n",
              "<style scoped>\n",
              "    .dataframe tbody tr th:only-of-type {\n",
              "        vertical-align: middle;\n",
              "    }\n",
              "\n",
              "    .dataframe tbody tr th {\n",
              "        vertical-align: top;\n",
              "    }\n",
              "\n",
              "    .dataframe thead th {\n",
              "        text-align: right;\n",
              "    }\n",
              "</style>\n",
              "<table border=\"1\" class=\"dataframe\">\n",
              "  <thead>\n",
              "    <tr style=\"text-align: right;\">\n",
              "      <th></th>\n",
              "      <th>Year</th>\n",
              "      <th>Provider County</th>\n",
              "      <th>Index Visits</th>\n",
              "      <th>Visits w/ Antibiotic Prescribed</th>\n",
              "      <th>Observed Prescribing Rate per 100 Visits</th>\n",
              "      <th>Risk Adjusted Prescribing Rate per 100 Visits</th>\n",
              "    </tr>\n",
              "  </thead>\n",
              "  <tbody>\n",
              "    <tr>\n",
              "      <th>0</th>\n",
              "      <td>2016</td>\n",
              "      <td>ALBANY</td>\n",
              "      <td>2768</td>\n",
              "      <td>221</td>\n",
              "      <td>7.98</td>\n",
              "      <td>8.41</td>\n",
              "    </tr>\n",
              "    <tr>\n",
              "      <th>1</th>\n",
              "      <td>2016</td>\n",
              "      <td>ALLEGANY</td>\n",
              "      <td>432</td>\n",
              "      <td>119</td>\n",
              "      <td>27.55</td>\n",
              "      <td>15.97</td>\n",
              "    </tr>\n",
              "    <tr>\n",
              "      <th>2</th>\n",
              "      <td>2016</td>\n",
              "      <td>BRONX</td>\n",
              "      <td>20637</td>\n",
              "      <td>1297</td>\n",
              "      <td>6.28</td>\n",
              "      <td>7.72</td>\n",
              "    </tr>\n",
              "    <tr>\n",
              "      <th>3</th>\n",
              "      <td>2016</td>\n",
              "      <td>BROOME</td>\n",
              "      <td>2823</td>\n",
              "      <td>386</td>\n",
              "      <td>13.67</td>\n",
              "      <td>11.10</td>\n",
              "    </tr>\n",
              "    <tr>\n",
              "      <th>4</th>\n",
              "      <td>2016</td>\n",
              "      <td>CATTARAUGUS</td>\n",
              "      <td>437</td>\n",
              "      <td>107</td>\n",
              "      <td>24.49</td>\n",
              "      <td>15.29</td>\n",
              "    </tr>\n",
              "  </tbody>\n",
              "</table>\n",
              "</div>\n",
              "      <button class=\"colab-df-convert\" onclick=\"convertToInteractive('df-7fa28352-3a76-4dea-bcfc-e6b8a0cb21fe')\"\n",
              "              title=\"Convert this dataframe to an interactive table.\"\n",
              "              style=\"display:none;\">\n",
              "        \n",
              "  <svg xmlns=\"http://www.w3.org/2000/svg\" height=\"24px\"viewBox=\"0 0 24 24\"\n",
              "       width=\"24px\">\n",
              "    <path d=\"M0 0h24v24H0V0z\" fill=\"none\"/>\n",
              "    <path d=\"M18.56 5.44l.94 2.06.94-2.06 2.06-.94-2.06-.94-.94-2.06-.94 2.06-2.06.94zm-11 1L8.5 8.5l.94-2.06 2.06-.94-2.06-.94L8.5 2.5l-.94 2.06-2.06.94zm10 10l.94 2.06.94-2.06 2.06-.94-2.06-.94-.94-2.06-.94 2.06-2.06.94z\"/><path d=\"M17.41 7.96l-1.37-1.37c-.4-.4-.92-.59-1.43-.59-.52 0-1.04.2-1.43.59L10.3 9.45l-7.72 7.72c-.78.78-.78 2.05 0 2.83L4 21.41c.39.39.9.59 1.41.59.51 0 1.02-.2 1.41-.59l7.78-7.78 2.81-2.81c.8-.78.8-2.07 0-2.86zM5.41 20L4 18.59l7.72-7.72 1.47 1.35L5.41 20z\"/>\n",
              "  </svg>\n",
              "      </button>\n",
              "      \n",
              "  <style>\n",
              "    .colab-df-container {\n",
              "      display:flex;\n",
              "      flex-wrap:wrap;\n",
              "      gap: 12px;\n",
              "    }\n",
              "\n",
              "    .colab-df-convert {\n",
              "      background-color: #E8F0FE;\n",
              "      border: none;\n",
              "      border-radius: 50%;\n",
              "      cursor: pointer;\n",
              "      display: none;\n",
              "      fill: #1967D2;\n",
              "      height: 32px;\n",
              "      padding: 0 0 0 0;\n",
              "      width: 32px;\n",
              "    }\n",
              "\n",
              "    .colab-df-convert:hover {\n",
              "      background-color: #E2EBFA;\n",
              "      box-shadow: 0px 1px 2px rgba(60, 64, 67, 0.3), 0px 1px 3px 1px rgba(60, 64, 67, 0.15);\n",
              "      fill: #174EA6;\n",
              "    }\n",
              "\n",
              "    [theme=dark] .colab-df-convert {\n",
              "      background-color: #3B4455;\n",
              "      fill: #D2E3FC;\n",
              "    }\n",
              "\n",
              "    [theme=dark] .colab-df-convert:hover {\n",
              "      background-color: #434B5C;\n",
              "      box-shadow: 0px 1px 3px 1px rgba(0, 0, 0, 0.15);\n",
              "      filter: drop-shadow(0px 1px 2px rgba(0, 0, 0, 0.3));\n",
              "      fill: #FFFFFF;\n",
              "    }\n",
              "  </style>\n",
              "\n",
              "      <script>\n",
              "        const buttonEl =\n",
              "          document.querySelector('#df-7fa28352-3a76-4dea-bcfc-e6b8a0cb21fe button.colab-df-convert');\n",
              "        buttonEl.style.display =\n",
              "          google.colab.kernel.accessAllowed ? 'block' : 'none';\n",
              "\n",
              "        async function convertToInteractive(key) {\n",
              "          const element = document.querySelector('#df-7fa28352-3a76-4dea-bcfc-e6b8a0cb21fe');\n",
              "          const dataTable =\n",
              "            await google.colab.kernel.invokeFunction('convertToInteractive',\n",
              "                                                     [key], {});\n",
              "          if (!dataTable) return;\n",
              "\n",
              "          const docLinkHtml = 'Like what you see? Visit the ' +\n",
              "            '<a target=\"_blank\" href=https://colab.research.google.com/notebooks/data_table.ipynb>data table notebook</a>'\n",
              "            + ' to learn more about interactive tables.';\n",
              "          element.innerHTML = '';\n",
              "          dataTable['output_type'] = 'display_data';\n",
              "          await google.colab.output.renderOutput(dataTable, element);\n",
              "          const docLink = document.createElement('div');\n",
              "          docLink.innerHTML = docLinkHtml;\n",
              "          element.appendChild(docLink);\n",
              "        }\n",
              "      </script>\n",
              "    </div>\n",
              "  </div>\n",
              "  "
            ]
          },
          "metadata": {},
          "execution_count": 2
        }
      ]
    },
    {
      "cell_type": "code",
      "source": [
        "df.info()"
      ],
      "metadata": {
        "colab": {
          "base_uri": "https://localhost:8080/"
        },
        "id": "cC1CIVIymIrW",
        "outputId": "693b0be9-8f25-40a2-f13c-d984456b0c6d"
      },
      "execution_count": 3,
      "outputs": [
        {
          "output_type": "stream",
          "name": "stdout",
          "text": [
            "<class 'pandas.core.frame.DataFrame'>\n",
            "RangeIndex: 441 entries, 0 to 440\n",
            "Data columns (total 6 columns):\n",
            " #   Column                                         Non-Null Count  Dtype  \n",
            "---  ------                                         --------------  -----  \n",
            " 0   Year                                           441 non-null    int64  \n",
            " 1   Provider County                                441 non-null    object \n",
            " 2   Index Visits                                   441 non-null    int64  \n",
            " 3   Visits w/ Antibiotic Prescribed                441 non-null    int64  \n",
            " 4   Observed Prescribing Rate per 100 Visits       441 non-null    float64\n",
            " 5   Risk Adjusted Prescribing Rate per 100 Visits  441 non-null    float64\n",
            "dtypes: float64(2), int64(3), object(1)\n",
            "memory usage: 20.8+ KB\n"
          ]
        }
      ]
    },
    {
      "cell_type": "code",
      "source": [
        "df.columns"
      ],
      "metadata": {
        "colab": {
          "base_uri": "https://localhost:8080/"
        },
        "id": "JLhPdqR8mNYw",
        "outputId": "ae9fbae2-ad57-46e5-93d4-0afdc09c7c9e"
      },
      "execution_count": 4,
      "outputs": [
        {
          "output_type": "execute_result",
          "data": {
            "text/plain": [
              "Index(['Year', 'Provider County', 'Index Visits',\n",
              "       'Visits w/ Antibiotic Prescribed',\n",
              "       'Observed Prescribing Rate per 100 Visits',\n",
              "       'Risk Adjusted Prescribing Rate per 100 Visits'],\n",
              "      dtype='object')"
            ]
          },
          "metadata": {},
          "execution_count": 4
        }
      ]
    },
    {
      "cell_type": "code",
      "source": [
        "df.index"
      ],
      "metadata": {
        "colab": {
          "base_uri": "https://localhost:8080/"
        },
        "id": "CL8OGRZ1qdIY",
        "outputId": "d55a9351-b2ba-42ea-b933-613559e15bf4"
      },
      "execution_count": 5,
      "outputs": [
        {
          "output_type": "execute_result",
          "data": {
            "text/plain": [
              "RangeIndex(start=0, stop=441, step=1)"
            ]
          },
          "metadata": {},
          "execution_count": 5
        }
      ]
    },
    {
      "cell_type": "code",
      "source": [
        "df[\"Provider County\"] = df[\"Provider County\"].str.capitalize()\n",
        "df[\"Provider County\"].unique()"
      ],
      "metadata": {
        "colab": {
          "base_uri": "https://localhost:8080/"
        },
        "id": "hRitGBWvqjfs",
        "outputId": "8a0fefb4-6bda-44d8-c94b-4ecac9ac7615"
      },
      "execution_count": 6,
      "outputs": [
        {
          "output_type": "execute_result",
          "data": {
            "text/plain": [
              "array(['Albany', 'Allegany', 'Bronx', 'Broome', 'Cattaraugus', 'Cayuga',\n",
              "       'Chautauqua', 'Chemung', 'Chenango', 'Clinton', 'Columbia',\n",
              "       'Cortland', 'Delaware', 'Dutchess', 'Erie', 'Essex', 'Franklin',\n",
              "       'Fulton', 'Genesee', 'Greene', 'Hamilton', 'Herkimer', 'Jefferson',\n",
              "       'Kings', 'Lewis', 'Livingston', 'Madison', 'Monroe', 'Montgomery',\n",
              "       'Nassau', 'New york', 'Niagara', 'Oneida', 'Onondaga', 'Ontario',\n",
              "       'Orange', 'Orleans', 'Oswego', 'Otsego', 'Putnam', 'Queens',\n",
              "       'Rensselaer', 'Richmond', 'Rockland', 'Saratoga', 'Schenectady',\n",
              "       'Schoharie', 'Schuyler', 'Seneca', 'Statewide', 'Steuben',\n",
              "       'St lawrence', 'Suffolk', 'Sullivan', 'Tioga', 'Tompkins',\n",
              "       'Ulster', 'Warren', 'Washington', 'Wayne', 'Westchester',\n",
              "       'Wyoming', 'Yates'], dtype=object)"
            ]
          },
          "metadata": {},
          "execution_count": 6
        }
      ]
    },
    {
      "cell_type": "code",
      "source": [
        "selected_countries = df['Provider County'].sample(10, replace=True).tolist()\n",
        "selected_countries"
      ],
      "metadata": {
        "colab": {
          "base_uri": "https://localhost:8080/"
        },
        "id": "09TN0PF-5cqR",
        "outputId": "29732a94-5bc9-4b06-b167-da26596831ac"
      },
      "execution_count": 7,
      "outputs": [
        {
          "output_type": "execute_result",
          "data": {
            "text/plain": [
              "['Seneca',\n",
              " 'Montgomery',\n",
              " 'New york',\n",
              " 'Onondaga',\n",
              " 'Niagara',\n",
              " 'Nassau',\n",
              " 'Jefferson',\n",
              " 'Putnam',\n",
              " 'Statewide',\n",
              " 'Orange']"
            ]
          },
          "metadata": {},
          "execution_count": 7
        }
      ]
    },
    {
      "cell_type": "code",
      "source": [
        "print(df[\"Observed Prescribing Rate per 100 Visits\"].min())\n",
        "print(df[\"Observed Prescribing Rate per 100 Visits\"].max())"
      ],
      "metadata": {
        "colab": {
          "base_uri": "https://localhost:8080/"
        },
        "id": "9QWVf-MQ6Wfa",
        "outputId": "8542524b-2cb3-4622-e239-2839edac85a6"
      },
      "execution_count": 8,
      "outputs": [
        {
          "output_type": "stream",
          "name": "stdout",
          "text": [
            "4.44\n",
            "100.0\n"
          ]
        }
      ]
    },
    {
      "cell_type": "code",
      "source": [
        "fig = px.bar(\n",
        "    df[df['Provider County'].isin(selected_countries)], \n",
        "    x = 'Provider County',\n",
        "    y = \"Observed Prescribing Rate per 100 Visits\", \n",
        "    color = \"Provider County\",\n",
        "    animation_frame = \"Year\",\n",
        "    animation_group = \"Provider County\", \n",
        "    range_y = [0, 100], \n",
        "    title = 'Antibiotic Prescribing rates in US counties'\n",
        ")\n",
        "fig.show()"
      ],
      "metadata": {
        "colab": {
          "base_uri": "https://localhost:8080/",
          "height": 542
        },
        "id": "yngeA73nqxuZ",
        "outputId": "26f1aab7-6d8a-4564-b82a-7129c5472462"
      },
      "execution_count": 9,
      "outputs": [
        {
          "output_type": "display_data",
          "data": {
            "text/html": [
              "<html>\n",
              "<head><meta charset=\"utf-8\" /></head>\n",
              "<body>\n",
              "    <div>            <script src=\"https://cdnjs.cloudflare.com/ajax/libs/mathjax/2.7.5/MathJax.js?config=TeX-AMS-MML_SVG\"></script><script type=\"text/javascript\">if (window.MathJax) {MathJax.Hub.Config({SVG: {font: \"STIX-Web\"}});}</script>                <script type=\"text/javascript\">window.PlotlyConfig = {MathJaxConfig: 'local'};</script>\n",
              "        <script src=\"https://cdn.plot.ly/plotly-2.8.3.min.js\"></script>                <div id=\"d2eb5583-cb9a-4a0a-8272-dddb382e755e\" class=\"plotly-graph-div\" style=\"height:525px; width:100%;\"></div>            <script type=\"text/javascript\">                                    window.PLOTLYENV=window.PLOTLYENV || {};                                    if (document.getElementById(\"d2eb5583-cb9a-4a0a-8272-dddb382e755e\")) {                    Plotly.newPlot(                        \"d2eb5583-cb9a-4a0a-8272-dddb382e755e\",                        [{\"alignmentgroup\":\"True\",\"hovertemplate\":\"Provider County=%{x}<br>Year=2016<br>Observed Prescribing Rate per 100 Visits=%{y}<extra></extra>\",\"ids\":[\"Jefferson\"],\"legendgroup\":\"Jefferson\",\"marker\":{\"color\":\"#636efa\",\"pattern\":{\"shape\":\"\"}},\"name\":\"Jefferson\",\"offsetgroup\":\"Jefferson\",\"orientation\":\"v\",\"showlegend\":true,\"textposition\":\"auto\",\"x\":[\"Jefferson\"],\"xaxis\":\"x\",\"y\":[23.58],\"yaxis\":\"y\",\"type\":\"bar\"},{\"alignmentgroup\":\"True\",\"hovertemplate\":\"Provider County=%{x}<br>Year=2016<br>Observed Prescribing Rate per 100 Visits=%{y}<extra></extra>\",\"ids\":[\"Montgomery\"],\"legendgroup\":\"Montgomery\",\"marker\":{\"color\":\"#EF553B\",\"pattern\":{\"shape\":\"\"}},\"name\":\"Montgomery\",\"offsetgroup\":\"Montgomery\",\"orientation\":\"v\",\"showlegend\":true,\"textposition\":\"auto\",\"x\":[\"Montgomery\"],\"xaxis\":\"x\",\"y\":[17.6],\"yaxis\":\"y\",\"type\":\"bar\"},{\"alignmentgroup\":\"True\",\"hovertemplate\":\"Provider County=%{x}<br>Year=2016<br>Observed Prescribing Rate per 100 Visits=%{y}<extra></extra>\",\"ids\":[\"Nassau\"],\"legendgroup\":\"Nassau\",\"marker\":{\"color\":\"#00cc96\",\"pattern\":{\"shape\":\"\"}},\"name\":\"Nassau\",\"offsetgroup\":\"Nassau\",\"orientation\":\"v\",\"showlegend\":true,\"textposition\":\"auto\",\"x\":[\"Nassau\"],\"xaxis\":\"x\",\"y\":[12.09],\"yaxis\":\"y\",\"type\":\"bar\"},{\"alignmentgroup\":\"True\",\"hovertemplate\":\"Provider County=%{x}<br>Year=2016<br>Observed Prescribing Rate per 100 Visits=%{y}<extra></extra>\",\"ids\":[\"New york\"],\"legendgroup\":\"New york\",\"marker\":{\"color\":\"#ab63fa\",\"pattern\":{\"shape\":\"\"}},\"name\":\"New york\",\"offsetgroup\":\"New york\",\"orientation\":\"v\",\"showlegend\":true,\"textposition\":\"auto\",\"x\":[\"New york\"],\"xaxis\":\"x\",\"y\":[5.39],\"yaxis\":\"y\",\"type\":\"bar\"},{\"alignmentgroup\":\"True\",\"hovertemplate\":\"Provider County=%{x}<br>Year=2016<br>Observed Prescribing Rate per 100 Visits=%{y}<extra></extra>\",\"ids\":[\"Niagara\"],\"legendgroup\":\"Niagara\",\"marker\":{\"color\":\"#FFA15A\",\"pattern\":{\"shape\":\"\"}},\"name\":\"Niagara\",\"offsetgroup\":\"Niagara\",\"orientation\":\"v\",\"showlegend\":true,\"textposition\":\"auto\",\"x\":[\"Niagara\"],\"xaxis\":\"x\",\"y\":[9.9],\"yaxis\":\"y\",\"type\":\"bar\"},{\"alignmentgroup\":\"True\",\"hovertemplate\":\"Provider County=%{x}<br>Year=2016<br>Observed Prescribing Rate per 100 Visits=%{y}<extra></extra>\",\"ids\":[\"Onondaga\"],\"legendgroup\":\"Onondaga\",\"marker\":{\"color\":\"#19d3f3\",\"pattern\":{\"shape\":\"\"}},\"name\":\"Onondaga\",\"offsetgroup\":\"Onondaga\",\"orientation\":\"v\",\"showlegend\":true,\"textposition\":\"auto\",\"x\":[\"Onondaga\"],\"xaxis\":\"x\",\"y\":[9.46],\"yaxis\":\"y\",\"type\":\"bar\"},{\"alignmentgroup\":\"True\",\"hovertemplate\":\"Provider County=%{x}<br>Year=2016<br>Observed Prescribing Rate per 100 Visits=%{y}<extra></extra>\",\"ids\":[\"Orange\"],\"legendgroup\":\"Orange\",\"marker\":{\"color\":\"#FF6692\",\"pattern\":{\"shape\":\"\"}},\"name\":\"Orange\",\"offsetgroup\":\"Orange\",\"orientation\":\"v\",\"showlegend\":true,\"textposition\":\"auto\",\"x\":[\"Orange\"],\"xaxis\":\"x\",\"y\":[12.44],\"yaxis\":\"y\",\"type\":\"bar\"},{\"alignmentgroup\":\"True\",\"hovertemplate\":\"Provider County=%{x}<br>Year=2016<br>Observed Prescribing Rate per 100 Visits=%{y}<extra></extra>\",\"ids\":[\"Putnam\"],\"legendgroup\":\"Putnam\",\"marker\":{\"color\":\"#B6E880\",\"pattern\":{\"shape\":\"\"}},\"name\":\"Putnam\",\"offsetgroup\":\"Putnam\",\"orientation\":\"v\",\"showlegend\":true,\"textposition\":\"auto\",\"x\":[\"Putnam\"],\"xaxis\":\"x\",\"y\":[15.87],\"yaxis\":\"y\",\"type\":\"bar\"},{\"alignmentgroup\":\"True\",\"hovertemplate\":\"Provider County=%{x}<br>Year=2016<br>Observed Prescribing Rate per 100 Visits=%{y}<extra></extra>\",\"ids\":[\"Seneca\"],\"legendgroup\":\"Seneca\",\"marker\":{\"color\":\"#FF97FF\",\"pattern\":{\"shape\":\"\"}},\"name\":\"Seneca\",\"offsetgroup\":\"Seneca\",\"orientation\":\"v\",\"showlegend\":true,\"textposition\":\"auto\",\"x\":[\"Seneca\"],\"xaxis\":\"x\",\"y\":[21.43],\"yaxis\":\"y\",\"type\":\"bar\"},{\"alignmentgroup\":\"True\",\"hovertemplate\":\"Provider County=%{x}<br>Year=2016<br>Observed Prescribing Rate per 100 Visits=%{y}<extra></extra>\",\"ids\":[\"Statewide\"],\"legendgroup\":\"Statewide\",\"marker\":{\"color\":\"#FECB52\",\"pattern\":{\"shape\":\"\"}},\"name\":\"Statewide\",\"offsetgroup\":\"Statewide\",\"orientation\":\"v\",\"showlegend\":true,\"textposition\":\"auto\",\"x\":[\"Statewide\"],\"xaxis\":\"x\",\"y\":[100.0],\"yaxis\":\"y\",\"type\":\"bar\"}],                        {\"template\":{\"data\":{\"bar\":[{\"error_x\":{\"color\":\"#2a3f5f\"},\"error_y\":{\"color\":\"#2a3f5f\"},\"marker\":{\"line\":{\"color\":\"#E5ECF6\",\"width\":0.5},\"pattern\":{\"fillmode\":\"overlay\",\"size\":10,\"solidity\":0.2}},\"type\":\"bar\"}],\"barpolar\":[{\"marker\":{\"line\":{\"color\":\"#E5ECF6\",\"width\":0.5},\"pattern\":{\"fillmode\":\"overlay\",\"size\":10,\"solidity\":0.2}},\"type\":\"barpolar\"}],\"carpet\":[{\"aaxis\":{\"endlinecolor\":\"#2a3f5f\",\"gridcolor\":\"white\",\"linecolor\":\"white\",\"minorgridcolor\":\"white\",\"startlinecolor\":\"#2a3f5f\"},\"baxis\":{\"endlinecolor\":\"#2a3f5f\",\"gridcolor\":\"white\",\"linecolor\":\"white\",\"minorgridcolor\":\"white\",\"startlinecolor\":\"#2a3f5f\"},\"type\":\"carpet\"}],\"choropleth\":[{\"colorbar\":{\"outlinewidth\":0,\"ticks\":\"\"},\"type\":\"choropleth\"}],\"contour\":[{\"colorbar\":{\"outlinewidth\":0,\"ticks\":\"\"},\"colorscale\":[[0.0,\"#0d0887\"],[0.1111111111111111,\"#46039f\"],[0.2222222222222222,\"#7201a8\"],[0.3333333333333333,\"#9c179e\"],[0.4444444444444444,\"#bd3786\"],[0.5555555555555556,\"#d8576b\"],[0.6666666666666666,\"#ed7953\"],[0.7777777777777778,\"#fb9f3a\"],[0.8888888888888888,\"#fdca26\"],[1.0,\"#f0f921\"]],\"type\":\"contour\"}],\"contourcarpet\":[{\"colorbar\":{\"outlinewidth\":0,\"ticks\":\"\"},\"type\":\"contourcarpet\"}],\"heatmap\":[{\"colorbar\":{\"outlinewidth\":0,\"ticks\":\"\"},\"colorscale\":[[0.0,\"#0d0887\"],[0.1111111111111111,\"#46039f\"],[0.2222222222222222,\"#7201a8\"],[0.3333333333333333,\"#9c179e\"],[0.4444444444444444,\"#bd3786\"],[0.5555555555555556,\"#d8576b\"],[0.6666666666666666,\"#ed7953\"],[0.7777777777777778,\"#fb9f3a\"],[0.8888888888888888,\"#fdca26\"],[1.0,\"#f0f921\"]],\"type\":\"heatmap\"}],\"heatmapgl\":[{\"colorbar\":{\"outlinewidth\":0,\"ticks\":\"\"},\"colorscale\":[[0.0,\"#0d0887\"],[0.1111111111111111,\"#46039f\"],[0.2222222222222222,\"#7201a8\"],[0.3333333333333333,\"#9c179e\"],[0.4444444444444444,\"#bd3786\"],[0.5555555555555556,\"#d8576b\"],[0.6666666666666666,\"#ed7953\"],[0.7777777777777778,\"#fb9f3a\"],[0.8888888888888888,\"#fdca26\"],[1.0,\"#f0f921\"]],\"type\":\"heatmapgl\"}],\"histogram\":[{\"marker\":{\"pattern\":{\"fillmode\":\"overlay\",\"size\":10,\"solidity\":0.2}},\"type\":\"histogram\"}],\"histogram2d\":[{\"colorbar\":{\"outlinewidth\":0,\"ticks\":\"\"},\"colorscale\":[[0.0,\"#0d0887\"],[0.1111111111111111,\"#46039f\"],[0.2222222222222222,\"#7201a8\"],[0.3333333333333333,\"#9c179e\"],[0.4444444444444444,\"#bd3786\"],[0.5555555555555556,\"#d8576b\"],[0.6666666666666666,\"#ed7953\"],[0.7777777777777778,\"#fb9f3a\"],[0.8888888888888888,\"#fdca26\"],[1.0,\"#f0f921\"]],\"type\":\"histogram2d\"}],\"histogram2dcontour\":[{\"colorbar\":{\"outlinewidth\":0,\"ticks\":\"\"},\"colorscale\":[[0.0,\"#0d0887\"],[0.1111111111111111,\"#46039f\"],[0.2222222222222222,\"#7201a8\"],[0.3333333333333333,\"#9c179e\"],[0.4444444444444444,\"#bd3786\"],[0.5555555555555556,\"#d8576b\"],[0.6666666666666666,\"#ed7953\"],[0.7777777777777778,\"#fb9f3a\"],[0.8888888888888888,\"#fdca26\"],[1.0,\"#f0f921\"]],\"type\":\"histogram2dcontour\"}],\"mesh3d\":[{\"colorbar\":{\"outlinewidth\":0,\"ticks\":\"\"},\"type\":\"mesh3d\"}],\"parcoords\":[{\"line\":{\"colorbar\":{\"outlinewidth\":0,\"ticks\":\"\"}},\"type\":\"parcoords\"}],\"pie\":[{\"automargin\":true,\"type\":\"pie\"}],\"scatter\":[{\"marker\":{\"colorbar\":{\"outlinewidth\":0,\"ticks\":\"\"}},\"type\":\"scatter\"}],\"scatter3d\":[{\"line\":{\"colorbar\":{\"outlinewidth\":0,\"ticks\":\"\"}},\"marker\":{\"colorbar\":{\"outlinewidth\":0,\"ticks\":\"\"}},\"type\":\"scatter3d\"}],\"scattercarpet\":[{\"marker\":{\"colorbar\":{\"outlinewidth\":0,\"ticks\":\"\"}},\"type\":\"scattercarpet\"}],\"scattergeo\":[{\"marker\":{\"colorbar\":{\"outlinewidth\":0,\"ticks\":\"\"}},\"type\":\"scattergeo\"}],\"scattergl\":[{\"marker\":{\"colorbar\":{\"outlinewidth\":0,\"ticks\":\"\"}},\"type\":\"scattergl\"}],\"scattermapbox\":[{\"marker\":{\"colorbar\":{\"outlinewidth\":0,\"ticks\":\"\"}},\"type\":\"scattermapbox\"}],\"scatterpolar\":[{\"marker\":{\"colorbar\":{\"outlinewidth\":0,\"ticks\":\"\"}},\"type\":\"scatterpolar\"}],\"scatterpolargl\":[{\"marker\":{\"colorbar\":{\"outlinewidth\":0,\"ticks\":\"\"}},\"type\":\"scatterpolargl\"}],\"scatterternary\":[{\"marker\":{\"colorbar\":{\"outlinewidth\":0,\"ticks\":\"\"}},\"type\":\"scatterternary\"}],\"surface\":[{\"colorbar\":{\"outlinewidth\":0,\"ticks\":\"\"},\"colorscale\":[[0.0,\"#0d0887\"],[0.1111111111111111,\"#46039f\"],[0.2222222222222222,\"#7201a8\"],[0.3333333333333333,\"#9c179e\"],[0.4444444444444444,\"#bd3786\"],[0.5555555555555556,\"#d8576b\"],[0.6666666666666666,\"#ed7953\"],[0.7777777777777778,\"#fb9f3a\"],[0.8888888888888888,\"#fdca26\"],[1.0,\"#f0f921\"]],\"type\":\"surface\"}],\"table\":[{\"cells\":{\"fill\":{\"color\":\"#EBF0F8\"},\"line\":{\"color\":\"white\"}},\"header\":{\"fill\":{\"color\":\"#C8D4E3\"},\"line\":{\"color\":\"white\"}},\"type\":\"table\"}]},\"layout\":{\"annotationdefaults\":{\"arrowcolor\":\"#2a3f5f\",\"arrowhead\":0,\"arrowwidth\":1},\"autotypenumbers\":\"strict\",\"coloraxis\":{\"colorbar\":{\"outlinewidth\":0,\"ticks\":\"\"}},\"colorscale\":{\"diverging\":[[0,\"#8e0152\"],[0.1,\"#c51b7d\"],[0.2,\"#de77ae\"],[0.3,\"#f1b6da\"],[0.4,\"#fde0ef\"],[0.5,\"#f7f7f7\"],[0.6,\"#e6f5d0\"],[0.7,\"#b8e186\"],[0.8,\"#7fbc41\"],[0.9,\"#4d9221\"],[1,\"#276419\"]],\"sequential\":[[0.0,\"#0d0887\"],[0.1111111111111111,\"#46039f\"],[0.2222222222222222,\"#7201a8\"],[0.3333333333333333,\"#9c179e\"],[0.4444444444444444,\"#bd3786\"],[0.5555555555555556,\"#d8576b\"],[0.6666666666666666,\"#ed7953\"],[0.7777777777777778,\"#fb9f3a\"],[0.8888888888888888,\"#fdca26\"],[1.0,\"#f0f921\"]],\"sequentialminus\":[[0.0,\"#0d0887\"],[0.1111111111111111,\"#46039f\"],[0.2222222222222222,\"#7201a8\"],[0.3333333333333333,\"#9c179e\"],[0.4444444444444444,\"#bd3786\"],[0.5555555555555556,\"#d8576b\"],[0.6666666666666666,\"#ed7953\"],[0.7777777777777778,\"#fb9f3a\"],[0.8888888888888888,\"#fdca26\"],[1.0,\"#f0f921\"]]},\"colorway\":[\"#636efa\",\"#EF553B\",\"#00cc96\",\"#ab63fa\",\"#FFA15A\",\"#19d3f3\",\"#FF6692\",\"#B6E880\",\"#FF97FF\",\"#FECB52\"],\"font\":{\"color\":\"#2a3f5f\"},\"geo\":{\"bgcolor\":\"white\",\"lakecolor\":\"white\",\"landcolor\":\"#E5ECF6\",\"showlakes\":true,\"showland\":true,\"subunitcolor\":\"white\"},\"hoverlabel\":{\"align\":\"left\"},\"hovermode\":\"closest\",\"mapbox\":{\"style\":\"light\"},\"paper_bgcolor\":\"white\",\"plot_bgcolor\":\"#E5ECF6\",\"polar\":{\"angularaxis\":{\"gridcolor\":\"white\",\"linecolor\":\"white\",\"ticks\":\"\"},\"bgcolor\":\"#E5ECF6\",\"radialaxis\":{\"gridcolor\":\"white\",\"linecolor\":\"white\",\"ticks\":\"\"}},\"scene\":{\"xaxis\":{\"backgroundcolor\":\"#E5ECF6\",\"gridcolor\":\"white\",\"gridwidth\":2,\"linecolor\":\"white\",\"showbackground\":true,\"ticks\":\"\",\"zerolinecolor\":\"white\"},\"yaxis\":{\"backgroundcolor\":\"#E5ECF6\",\"gridcolor\":\"white\",\"gridwidth\":2,\"linecolor\":\"white\",\"showbackground\":true,\"ticks\":\"\",\"zerolinecolor\":\"white\"},\"zaxis\":{\"backgroundcolor\":\"#E5ECF6\",\"gridcolor\":\"white\",\"gridwidth\":2,\"linecolor\":\"white\",\"showbackground\":true,\"ticks\":\"\",\"zerolinecolor\":\"white\"}},\"shapedefaults\":{\"line\":{\"color\":\"#2a3f5f\"}},\"ternary\":{\"aaxis\":{\"gridcolor\":\"white\",\"linecolor\":\"white\",\"ticks\":\"\"},\"baxis\":{\"gridcolor\":\"white\",\"linecolor\":\"white\",\"ticks\":\"\"},\"bgcolor\":\"#E5ECF6\",\"caxis\":{\"gridcolor\":\"white\",\"linecolor\":\"white\",\"ticks\":\"\"}},\"title\":{\"x\":0.05},\"xaxis\":{\"automargin\":true,\"gridcolor\":\"white\",\"linecolor\":\"white\",\"ticks\":\"\",\"title\":{\"standoff\":15},\"zerolinecolor\":\"white\",\"zerolinewidth\":2},\"yaxis\":{\"automargin\":true,\"gridcolor\":\"white\",\"linecolor\":\"white\",\"ticks\":\"\",\"title\":{\"standoff\":15},\"zerolinecolor\":\"white\",\"zerolinewidth\":2}}},\"xaxis\":{\"anchor\":\"y\",\"domain\":[0.0,1.0],\"title\":{\"text\":\"Provider County\"},\"categoryorder\":\"array\",\"categoryarray\":[\"Jefferson\",\"Montgomery\",\"Nassau\",\"New york\",\"Niagara\",\"Onondaga\",\"Orange\",\"Putnam\",\"Seneca\",\"Statewide\"]},\"yaxis\":{\"anchor\":\"x\",\"domain\":[0.0,1.0],\"title\":{\"text\":\"Observed Prescribing Rate per 100 Visits\"},\"range\":[0,100]},\"legend\":{\"title\":{\"text\":\"Provider County\"},\"tracegroupgap\":0},\"title\":{\"text\":\"Antibiotic Prescribing rates in US counties\"},\"barmode\":\"relative\",\"updatemenus\":[{\"buttons\":[{\"args\":[null,{\"frame\":{\"duration\":500,\"redraw\":true},\"mode\":\"immediate\",\"fromcurrent\":true,\"transition\":{\"duration\":500,\"easing\":\"linear\"}}],\"label\":\"&#9654;\",\"method\":\"animate\"},{\"args\":[[null],{\"frame\":{\"duration\":0,\"redraw\":true},\"mode\":\"immediate\",\"fromcurrent\":true,\"transition\":{\"duration\":0,\"easing\":\"linear\"}}],\"label\":\"&#9724;\",\"method\":\"animate\"}],\"direction\":\"left\",\"pad\":{\"r\":10,\"t\":70},\"showactive\":false,\"type\":\"buttons\",\"x\":0.1,\"xanchor\":\"right\",\"y\":0,\"yanchor\":\"top\"}],\"sliders\":[{\"active\":0,\"currentvalue\":{\"prefix\":\"Year=\"},\"len\":0.9,\"pad\":{\"b\":10,\"t\":60},\"steps\":[{\"args\":[[\"2016\"],{\"frame\":{\"duration\":0,\"redraw\":true},\"mode\":\"immediate\",\"fromcurrent\":true,\"transition\":{\"duration\":0,\"easing\":\"linear\"}}],\"label\":\"2016\",\"method\":\"animate\"},{\"args\":[[\"2015\"],{\"frame\":{\"duration\":0,\"redraw\":true},\"mode\":\"immediate\",\"fromcurrent\":true,\"transition\":{\"duration\":0,\"easing\":\"linear\"}}],\"label\":\"2015\",\"method\":\"animate\"},{\"args\":[[\"2014\"],{\"frame\":{\"duration\":0,\"redraw\":true},\"mode\":\"immediate\",\"fromcurrent\":true,\"transition\":{\"duration\":0,\"easing\":\"linear\"}}],\"label\":\"2014\",\"method\":\"animate\"},{\"args\":[[\"2013\"],{\"frame\":{\"duration\":0,\"redraw\":true},\"mode\":\"immediate\",\"fromcurrent\":true,\"transition\":{\"duration\":0,\"easing\":\"linear\"}}],\"label\":\"2013\",\"method\":\"animate\"},{\"args\":[[\"2012\"],{\"frame\":{\"duration\":0,\"redraw\":true},\"mode\":\"immediate\",\"fromcurrent\":true,\"transition\":{\"duration\":0,\"easing\":\"linear\"}}],\"label\":\"2012\",\"method\":\"animate\"},{\"args\":[[\"2011\"],{\"frame\":{\"duration\":0,\"redraw\":true},\"mode\":\"immediate\",\"fromcurrent\":true,\"transition\":{\"duration\":0,\"easing\":\"linear\"}}],\"label\":\"2011\",\"method\":\"animate\"},{\"args\":[[\"2010\"],{\"frame\":{\"duration\":0,\"redraw\":true},\"mode\":\"immediate\",\"fromcurrent\":true,\"transition\":{\"duration\":0,\"easing\":\"linear\"}}],\"label\":\"2010\",\"method\":\"animate\"}],\"x\":0.1,\"xanchor\":\"left\",\"y\":0,\"yanchor\":\"top\"}]},                        {\"responsive\": true}                    ).then(function(){\n",
              "                            Plotly.addFrames('d2eb5583-cb9a-4a0a-8272-dddb382e755e', [{\"data\":[{\"alignmentgroup\":\"True\",\"hovertemplate\":\"Provider County=%{x}<br>Year=2016<br>Observed Prescribing Rate per 100 Visits=%{y}<extra></extra>\",\"ids\":[\"Jefferson\"],\"legendgroup\":\"Jefferson\",\"marker\":{\"color\":\"#636efa\",\"pattern\":{\"shape\":\"\"}},\"name\":\"Jefferson\",\"offsetgroup\":\"Jefferson\",\"orientation\":\"v\",\"showlegend\":true,\"textposition\":\"auto\",\"x\":[\"Jefferson\"],\"xaxis\":\"x\",\"y\":[23.58],\"yaxis\":\"y\",\"type\":\"bar\"},{\"alignmentgroup\":\"True\",\"hovertemplate\":\"Provider County=%{x}<br>Year=2016<br>Observed Prescribing Rate per 100 Visits=%{y}<extra></extra>\",\"ids\":[\"Montgomery\"],\"legendgroup\":\"Montgomery\",\"marker\":{\"color\":\"#EF553B\",\"pattern\":{\"shape\":\"\"}},\"name\":\"Montgomery\",\"offsetgroup\":\"Montgomery\",\"orientation\":\"v\",\"showlegend\":true,\"textposition\":\"auto\",\"x\":[\"Montgomery\"],\"xaxis\":\"x\",\"y\":[17.6],\"yaxis\":\"y\",\"type\":\"bar\"},{\"alignmentgroup\":\"True\",\"hovertemplate\":\"Provider County=%{x}<br>Year=2016<br>Observed Prescribing Rate per 100 Visits=%{y}<extra></extra>\",\"ids\":[\"Nassau\"],\"legendgroup\":\"Nassau\",\"marker\":{\"color\":\"#00cc96\",\"pattern\":{\"shape\":\"\"}},\"name\":\"Nassau\",\"offsetgroup\":\"Nassau\",\"orientation\":\"v\",\"showlegend\":true,\"textposition\":\"auto\",\"x\":[\"Nassau\"],\"xaxis\":\"x\",\"y\":[12.09],\"yaxis\":\"y\",\"type\":\"bar\"},{\"alignmentgroup\":\"True\",\"hovertemplate\":\"Provider County=%{x}<br>Year=2016<br>Observed Prescribing Rate per 100 Visits=%{y}<extra></extra>\",\"ids\":[\"New york\"],\"legendgroup\":\"New york\",\"marker\":{\"color\":\"#ab63fa\",\"pattern\":{\"shape\":\"\"}},\"name\":\"New york\",\"offsetgroup\":\"New york\",\"orientation\":\"v\",\"showlegend\":true,\"textposition\":\"auto\",\"x\":[\"New york\"],\"xaxis\":\"x\",\"y\":[5.39],\"yaxis\":\"y\",\"type\":\"bar\"},{\"alignmentgroup\":\"True\",\"hovertemplate\":\"Provider County=%{x}<br>Year=2016<br>Observed Prescribing Rate per 100 Visits=%{y}<extra></extra>\",\"ids\":[\"Niagara\"],\"legendgroup\":\"Niagara\",\"marker\":{\"color\":\"#FFA15A\",\"pattern\":{\"shape\":\"\"}},\"name\":\"Niagara\",\"offsetgroup\":\"Niagara\",\"orientation\":\"v\",\"showlegend\":true,\"textposition\":\"auto\",\"x\":[\"Niagara\"],\"xaxis\":\"x\",\"y\":[9.9],\"yaxis\":\"y\",\"type\":\"bar\"},{\"alignmentgroup\":\"True\",\"hovertemplate\":\"Provider County=%{x}<br>Year=2016<br>Observed Prescribing Rate per 100 Visits=%{y}<extra></extra>\",\"ids\":[\"Onondaga\"],\"legendgroup\":\"Onondaga\",\"marker\":{\"color\":\"#19d3f3\",\"pattern\":{\"shape\":\"\"}},\"name\":\"Onondaga\",\"offsetgroup\":\"Onondaga\",\"orientation\":\"v\",\"showlegend\":true,\"textposition\":\"auto\",\"x\":[\"Onondaga\"],\"xaxis\":\"x\",\"y\":[9.46],\"yaxis\":\"y\",\"type\":\"bar\"},{\"alignmentgroup\":\"True\",\"hovertemplate\":\"Provider County=%{x}<br>Year=2016<br>Observed Prescribing Rate per 100 Visits=%{y}<extra></extra>\",\"ids\":[\"Orange\"],\"legendgroup\":\"Orange\",\"marker\":{\"color\":\"#FF6692\",\"pattern\":{\"shape\":\"\"}},\"name\":\"Orange\",\"offsetgroup\":\"Orange\",\"orientation\":\"v\",\"showlegend\":true,\"textposition\":\"auto\",\"x\":[\"Orange\"],\"xaxis\":\"x\",\"y\":[12.44],\"yaxis\":\"y\",\"type\":\"bar\"},{\"alignmentgroup\":\"True\",\"hovertemplate\":\"Provider County=%{x}<br>Year=2016<br>Observed Prescribing Rate per 100 Visits=%{y}<extra></extra>\",\"ids\":[\"Putnam\"],\"legendgroup\":\"Putnam\",\"marker\":{\"color\":\"#B6E880\",\"pattern\":{\"shape\":\"\"}},\"name\":\"Putnam\",\"offsetgroup\":\"Putnam\",\"orientation\":\"v\",\"showlegend\":true,\"textposition\":\"auto\",\"x\":[\"Putnam\"],\"xaxis\":\"x\",\"y\":[15.87],\"yaxis\":\"y\",\"type\":\"bar\"},{\"alignmentgroup\":\"True\",\"hovertemplate\":\"Provider County=%{x}<br>Year=2016<br>Observed Prescribing Rate per 100 Visits=%{y}<extra></extra>\",\"ids\":[\"Seneca\"],\"legendgroup\":\"Seneca\",\"marker\":{\"color\":\"#FF97FF\",\"pattern\":{\"shape\":\"\"}},\"name\":\"Seneca\",\"offsetgroup\":\"Seneca\",\"orientation\":\"v\",\"showlegend\":true,\"textposition\":\"auto\",\"x\":[\"Seneca\"],\"xaxis\":\"x\",\"y\":[21.43],\"yaxis\":\"y\",\"type\":\"bar\"},{\"alignmentgroup\":\"True\",\"hovertemplate\":\"Provider County=%{x}<br>Year=2016<br>Observed Prescribing Rate per 100 Visits=%{y}<extra></extra>\",\"ids\":[\"Statewide\"],\"legendgroup\":\"Statewide\",\"marker\":{\"color\":\"#FECB52\",\"pattern\":{\"shape\":\"\"}},\"name\":\"Statewide\",\"offsetgroup\":\"Statewide\",\"orientation\":\"v\",\"showlegend\":true,\"textposition\":\"auto\",\"x\":[\"Statewide\"],\"xaxis\":\"x\",\"y\":[100.0],\"yaxis\":\"y\",\"type\":\"bar\"}],\"name\":\"2016\"},{\"data\":[{\"alignmentgroup\":\"True\",\"hovertemplate\":\"Provider County=%{x}<br>Year=2015<br>Observed Prescribing Rate per 100 Visits=%{y}<extra></extra>\",\"ids\":[\"Jefferson\"],\"legendgroup\":\"Jefferson\",\"marker\":{\"color\":\"#636efa\",\"pattern\":{\"shape\":\"\"}},\"name\":\"Jefferson\",\"offsetgroup\":\"Jefferson\",\"orientation\":\"v\",\"showlegend\":true,\"textposition\":\"auto\",\"x\":[\"Jefferson\"],\"xaxis\":\"x\",\"y\":[31.85],\"yaxis\":\"y\",\"type\":\"bar\"},{\"alignmentgroup\":\"True\",\"hovertemplate\":\"Provider County=%{x}<br>Year=2015<br>Observed Prescribing Rate per 100 Visits=%{y}<extra></extra>\",\"ids\":[\"Montgomery\"],\"legendgroup\":\"Montgomery\",\"marker\":{\"color\":\"#EF553B\",\"pattern\":{\"shape\":\"\"}},\"name\":\"Montgomery\",\"offsetgroup\":\"Montgomery\",\"orientation\":\"v\",\"showlegend\":true,\"textposition\":\"auto\",\"x\":[\"Montgomery\"],\"xaxis\":\"x\",\"y\":[11.16],\"yaxis\":\"y\",\"type\":\"bar\"},{\"alignmentgroup\":\"True\",\"hovertemplate\":\"Provider County=%{x}<br>Year=2015<br>Observed Prescribing Rate per 100 Visits=%{y}<extra></extra>\",\"ids\":[\"Nassau\"],\"legendgroup\":\"Nassau\",\"marker\":{\"color\":\"#00cc96\",\"pattern\":{\"shape\":\"\"}},\"name\":\"Nassau\",\"offsetgroup\":\"Nassau\",\"orientation\":\"v\",\"showlegend\":true,\"textposition\":\"auto\",\"x\":[\"Nassau\"],\"xaxis\":\"x\",\"y\":[13.43],\"yaxis\":\"y\",\"type\":\"bar\"},{\"alignmentgroup\":\"True\",\"hovertemplate\":\"Provider County=%{x}<br>Year=2015<br>Observed Prescribing Rate per 100 Visits=%{y}<extra></extra>\",\"ids\":[\"New york\"],\"legendgroup\":\"New york\",\"marker\":{\"color\":\"#ab63fa\",\"pattern\":{\"shape\":\"\"}},\"name\":\"New york\",\"offsetgroup\":\"New york\",\"orientation\":\"v\",\"showlegend\":true,\"textposition\":\"auto\",\"x\":[\"New york\"],\"xaxis\":\"x\",\"y\":[5.38],\"yaxis\":\"y\",\"type\":\"bar\"},{\"alignmentgroup\":\"True\",\"hovertemplate\":\"Provider County=%{x}<br>Year=2015<br>Observed Prescribing Rate per 100 Visits=%{y}<extra></extra>\",\"ids\":[\"Niagara\"],\"legendgroup\":\"Niagara\",\"marker\":{\"color\":\"#FFA15A\",\"pattern\":{\"shape\":\"\"}},\"name\":\"Niagara\",\"offsetgroup\":\"Niagara\",\"orientation\":\"v\",\"showlegend\":true,\"textposition\":\"auto\",\"x\":[\"Niagara\"],\"xaxis\":\"x\",\"y\":[12.87],\"yaxis\":\"y\",\"type\":\"bar\"},{\"alignmentgroup\":\"True\",\"hovertemplate\":\"Provider County=%{x}<br>Year=2015<br>Observed Prescribing Rate per 100 Visits=%{y}<extra></extra>\",\"ids\":[\"Onondaga\"],\"legendgroup\":\"Onondaga\",\"marker\":{\"color\":\"#19d3f3\",\"pattern\":{\"shape\":\"\"}},\"name\":\"Onondaga\",\"offsetgroup\":\"Onondaga\",\"orientation\":\"v\",\"showlegend\":true,\"textposition\":\"auto\",\"x\":[\"Onondaga\"],\"xaxis\":\"x\",\"y\":[13.85],\"yaxis\":\"y\",\"type\":\"bar\"},{\"alignmentgroup\":\"True\",\"hovertemplate\":\"Provider County=%{x}<br>Year=2015<br>Observed Prescribing Rate per 100 Visits=%{y}<extra></extra>\",\"ids\":[\"Orange\"],\"legendgroup\":\"Orange\",\"marker\":{\"color\":\"#FF6692\",\"pattern\":{\"shape\":\"\"}},\"name\":\"Orange\",\"offsetgroup\":\"Orange\",\"orientation\":\"v\",\"showlegend\":true,\"textposition\":\"auto\",\"x\":[\"Orange\"],\"xaxis\":\"x\",\"y\":[14.46],\"yaxis\":\"y\",\"type\":\"bar\"},{\"alignmentgroup\":\"True\",\"hovertemplate\":\"Provider County=%{x}<br>Year=2015<br>Observed Prescribing Rate per 100 Visits=%{y}<extra></extra>\",\"ids\":[\"Putnam\"],\"legendgroup\":\"Putnam\",\"marker\":{\"color\":\"#B6E880\",\"pattern\":{\"shape\":\"\"}},\"name\":\"Putnam\",\"offsetgroup\":\"Putnam\",\"orientation\":\"v\",\"showlegend\":true,\"textposition\":\"auto\",\"x\":[\"Putnam\"],\"xaxis\":\"x\",\"y\":[25.1],\"yaxis\":\"y\",\"type\":\"bar\"},{\"alignmentgroup\":\"True\",\"hovertemplate\":\"Provider County=%{x}<br>Year=2015<br>Observed Prescribing Rate per 100 Visits=%{y}<extra></extra>\",\"ids\":[\"Seneca\"],\"legendgroup\":\"Seneca\",\"marker\":{\"color\":\"#FF97FF\",\"pattern\":{\"shape\":\"\"}},\"name\":\"Seneca\",\"offsetgroup\":\"Seneca\",\"orientation\":\"v\",\"showlegend\":true,\"textposition\":\"auto\",\"x\":[\"Seneca\"],\"xaxis\":\"x\",\"y\":[30.61],\"yaxis\":\"y\",\"type\":\"bar\"},{\"alignmentgroup\":\"True\",\"hovertemplate\":\"Provider County=%{x}<br>Year=2015<br>Observed Prescribing Rate per 100 Visits=%{y}<extra></extra>\",\"ids\":[\"Statewide\"],\"legendgroup\":\"Statewide\",\"marker\":{\"color\":\"#FECB52\",\"pattern\":{\"shape\":\"\"}},\"name\":\"Statewide\",\"offsetgroup\":\"Statewide\",\"orientation\":\"v\",\"showlegend\":true,\"textposition\":\"auto\",\"x\":[\"Statewide\"],\"xaxis\":\"x\",\"y\":[11.09],\"yaxis\":\"y\",\"type\":\"bar\"}],\"name\":\"2015\"},{\"data\":[{\"alignmentgroup\":\"True\",\"hovertemplate\":\"Provider County=%{x}<br>Year=2014<br>Observed Prescribing Rate per 100 Visits=%{y}<extra></extra>\",\"ids\":[\"Jefferson\"],\"legendgroup\":\"Jefferson\",\"marker\":{\"color\":\"#636efa\",\"pattern\":{\"shape\":\"\"}},\"name\":\"Jefferson\",\"offsetgroup\":\"Jefferson\",\"orientation\":\"v\",\"showlegend\":true,\"textposition\":\"auto\",\"x\":[\"Jefferson\"],\"xaxis\":\"x\",\"y\":[36.98],\"yaxis\":\"y\",\"type\":\"bar\"},{\"alignmentgroup\":\"True\",\"hovertemplate\":\"Provider County=%{x}<br>Year=2014<br>Observed Prescribing Rate per 100 Visits=%{y}<extra></extra>\",\"ids\":[\"Montgomery\"],\"legendgroup\":\"Montgomery\",\"marker\":{\"color\":\"#EF553B\",\"pattern\":{\"shape\":\"\"}},\"name\":\"Montgomery\",\"offsetgroup\":\"Montgomery\",\"orientation\":\"v\",\"showlegend\":true,\"textposition\":\"auto\",\"x\":[\"Montgomery\"],\"xaxis\":\"x\",\"y\":[8.43],\"yaxis\":\"y\",\"type\":\"bar\"},{\"alignmentgroup\":\"True\",\"hovertemplate\":\"Provider County=%{x}<br>Year=2014<br>Observed Prescribing Rate per 100 Visits=%{y}<extra></extra>\",\"ids\":[\"Nassau\"],\"legendgroup\":\"Nassau\",\"marker\":{\"color\":\"#00cc96\",\"pattern\":{\"shape\":\"\"}},\"name\":\"Nassau\",\"offsetgroup\":\"Nassau\",\"orientation\":\"v\",\"showlegend\":true,\"textposition\":\"auto\",\"x\":[\"Nassau\"],\"xaxis\":\"x\",\"y\":[13.05],\"yaxis\":\"y\",\"type\":\"bar\"},{\"alignmentgroup\":\"True\",\"hovertemplate\":\"Provider County=%{x}<br>Year=2014<br>Observed Prescribing Rate per 100 Visits=%{y}<extra></extra>\",\"ids\":[\"New york\"],\"legendgroup\":\"New york\",\"marker\":{\"color\":\"#ab63fa\",\"pattern\":{\"shape\":\"\"}},\"name\":\"New york\",\"offsetgroup\":\"New york\",\"orientation\":\"v\",\"showlegend\":true,\"textposition\":\"auto\",\"x\":[\"New york\"],\"xaxis\":\"x\",\"y\":[5.4],\"yaxis\":\"y\",\"type\":\"bar\"},{\"alignmentgroup\":\"True\",\"hovertemplate\":\"Provider County=%{x}<br>Year=2014<br>Observed Prescribing Rate per 100 Visits=%{y}<extra></extra>\",\"ids\":[\"Niagara\"],\"legendgroup\":\"Niagara\",\"marker\":{\"color\":\"#FFA15A\",\"pattern\":{\"shape\":\"\"}},\"name\":\"Niagara\",\"offsetgroup\":\"Niagara\",\"orientation\":\"v\",\"showlegend\":true,\"textposition\":\"auto\",\"x\":[\"Niagara\"],\"xaxis\":\"x\",\"y\":[13.0],\"yaxis\":\"y\",\"type\":\"bar\"},{\"alignmentgroup\":\"True\",\"hovertemplate\":\"Provider County=%{x}<br>Year=2014<br>Observed Prescribing Rate per 100 Visits=%{y}<extra></extra>\",\"ids\":[\"Onondaga\"],\"legendgroup\":\"Onondaga\",\"marker\":{\"color\":\"#19d3f3\",\"pattern\":{\"shape\":\"\"}},\"name\":\"Onondaga\",\"offsetgroup\":\"Onondaga\",\"orientation\":\"v\",\"showlegend\":true,\"textposition\":\"auto\",\"x\":[\"Onondaga\"],\"xaxis\":\"x\",\"y\":[13.85],\"yaxis\":\"y\",\"type\":\"bar\"},{\"alignmentgroup\":\"True\",\"hovertemplate\":\"Provider County=%{x}<br>Year=2014<br>Observed Prescribing Rate per 100 Visits=%{y}<extra></extra>\",\"ids\":[\"Orange\"],\"legendgroup\":\"Orange\",\"marker\":{\"color\":\"#FF6692\",\"pattern\":{\"shape\":\"\"}},\"name\":\"Orange\",\"offsetgroup\":\"Orange\",\"orientation\":\"v\",\"showlegend\":true,\"textposition\":\"auto\",\"x\":[\"Orange\"],\"xaxis\":\"x\",\"y\":[13.48],\"yaxis\":\"y\",\"type\":\"bar\"},{\"alignmentgroup\":\"True\",\"hovertemplate\":\"Provider County=%{x}<br>Year=2014<br>Observed Prescribing Rate per 100 Visits=%{y}<extra></extra>\",\"ids\":[\"Putnam\"],\"legendgroup\":\"Putnam\",\"marker\":{\"color\":\"#B6E880\",\"pattern\":{\"shape\":\"\"}},\"name\":\"Putnam\",\"offsetgroup\":\"Putnam\",\"orientation\":\"v\",\"showlegend\":true,\"textposition\":\"auto\",\"x\":[\"Putnam\"],\"xaxis\":\"x\",\"y\":[12.53],\"yaxis\":\"y\",\"type\":\"bar\"},{\"alignmentgroup\":\"True\",\"hovertemplate\":\"Provider County=%{x}<br>Year=2014<br>Observed Prescribing Rate per 100 Visits=%{y}<extra></extra>\",\"ids\":[\"Seneca\"],\"legendgroup\":\"Seneca\",\"marker\":{\"color\":\"#FF97FF\",\"pattern\":{\"shape\":\"\"}},\"name\":\"Seneca\",\"offsetgroup\":\"Seneca\",\"orientation\":\"v\",\"showlegend\":true,\"textposition\":\"auto\",\"x\":[\"Seneca\"],\"xaxis\":\"x\",\"y\":[23.29],\"yaxis\":\"y\",\"type\":\"bar\"},{\"alignmentgroup\":\"True\",\"hovertemplate\":\"Provider County=%{x}<br>Year=2014<br>Observed Prescribing Rate per 100 Visits=%{y}<extra></extra>\",\"ids\":[\"Statewide\"],\"legendgroup\":\"Statewide\",\"marker\":{\"color\":\"#FECB52\",\"pattern\":{\"shape\":\"\"}},\"name\":\"Statewide\",\"offsetgroup\":\"Statewide\",\"orientation\":\"v\",\"showlegend\":true,\"textposition\":\"auto\",\"x\":[\"Statewide\"],\"xaxis\":\"x\",\"y\":[10.6],\"yaxis\":\"y\",\"type\":\"bar\"}],\"name\":\"2014\"},{\"data\":[{\"alignmentgroup\":\"True\",\"hovertemplate\":\"Provider County=%{x}<br>Year=2013<br>Observed Prescribing Rate per 100 Visits=%{y}<extra></extra>\",\"ids\":[\"Jefferson\"],\"legendgroup\":\"Jefferson\",\"marker\":{\"color\":\"#636efa\",\"pattern\":{\"shape\":\"\"}},\"name\":\"Jefferson\",\"offsetgroup\":\"Jefferson\",\"orientation\":\"v\",\"showlegend\":true,\"textposition\":\"auto\",\"x\":[\"Jefferson\"],\"xaxis\":\"x\",\"y\":[38.59],\"yaxis\":\"y\",\"type\":\"bar\"},{\"alignmentgroup\":\"True\",\"hovertemplate\":\"Provider County=%{x}<br>Year=2013<br>Observed Prescribing Rate per 100 Visits=%{y}<extra></extra>\",\"ids\":[\"Montgomery\"],\"legendgroup\":\"Montgomery\",\"marker\":{\"color\":\"#EF553B\",\"pattern\":{\"shape\":\"\"}},\"name\":\"Montgomery\",\"offsetgroup\":\"Montgomery\",\"orientation\":\"v\",\"showlegend\":true,\"textposition\":\"auto\",\"x\":[\"Montgomery\"],\"xaxis\":\"x\",\"y\":[13.98],\"yaxis\":\"y\",\"type\":\"bar\"},{\"alignmentgroup\":\"True\",\"hovertemplate\":\"Provider County=%{x}<br>Year=2013<br>Observed Prescribing Rate per 100 Visits=%{y}<extra></extra>\",\"ids\":[\"Nassau\"],\"legendgroup\":\"Nassau\",\"marker\":{\"color\":\"#00cc96\",\"pattern\":{\"shape\":\"\"}},\"name\":\"Nassau\",\"offsetgroup\":\"Nassau\",\"orientation\":\"v\",\"showlegend\":true,\"textposition\":\"auto\",\"x\":[\"Nassau\"],\"xaxis\":\"x\",\"y\":[15.15],\"yaxis\":\"y\",\"type\":\"bar\"},{\"alignmentgroup\":\"True\",\"hovertemplate\":\"Provider County=%{x}<br>Year=2013<br>Observed Prescribing Rate per 100 Visits=%{y}<extra></extra>\",\"ids\":[\"New york\"],\"legendgroup\":\"New york\",\"marker\":{\"color\":\"#ab63fa\",\"pattern\":{\"shape\":\"\"}},\"name\":\"New york\",\"offsetgroup\":\"New york\",\"orientation\":\"v\",\"showlegend\":true,\"textposition\":\"auto\",\"x\":[\"New york\"],\"xaxis\":\"x\",\"y\":[6.17],\"yaxis\":\"y\",\"type\":\"bar\"},{\"alignmentgroup\":\"True\",\"hovertemplate\":\"Provider County=%{x}<br>Year=2013<br>Observed Prescribing Rate per 100 Visits=%{y}<extra></extra>\",\"ids\":[\"Niagara\"],\"legendgroup\":\"Niagara\",\"marker\":{\"color\":\"#FFA15A\",\"pattern\":{\"shape\":\"\"}},\"name\":\"Niagara\",\"offsetgroup\":\"Niagara\",\"orientation\":\"v\",\"showlegend\":true,\"textposition\":\"auto\",\"x\":[\"Niagara\"],\"xaxis\":\"x\",\"y\":[15.86],\"yaxis\":\"y\",\"type\":\"bar\"},{\"alignmentgroup\":\"True\",\"hovertemplate\":\"Provider County=%{x}<br>Year=2013<br>Observed Prescribing Rate per 100 Visits=%{y}<extra></extra>\",\"ids\":[\"Onondaga\"],\"legendgroup\":\"Onondaga\",\"marker\":{\"color\":\"#19d3f3\",\"pattern\":{\"shape\":\"\"}},\"name\":\"Onondaga\",\"offsetgroup\":\"Onondaga\",\"orientation\":\"v\",\"showlegend\":true,\"textposition\":\"auto\",\"x\":[\"Onondaga\"],\"xaxis\":\"x\",\"y\":[15.37],\"yaxis\":\"y\",\"type\":\"bar\"},{\"alignmentgroup\":\"True\",\"hovertemplate\":\"Provider County=%{x}<br>Year=2013<br>Observed Prescribing Rate per 100 Visits=%{y}<extra></extra>\",\"ids\":[\"Orange\"],\"legendgroup\":\"Orange\",\"marker\":{\"color\":\"#FF6692\",\"pattern\":{\"shape\":\"\"}},\"name\":\"Orange\",\"offsetgroup\":\"Orange\",\"orientation\":\"v\",\"showlegend\":true,\"textposition\":\"auto\",\"x\":[\"Orange\"],\"xaxis\":\"x\",\"y\":[16.47],\"yaxis\":\"y\",\"type\":\"bar\"},{\"alignmentgroup\":\"True\",\"hovertemplate\":\"Provider County=%{x}<br>Year=2013<br>Observed Prescribing Rate per 100 Visits=%{y}<extra></extra>\",\"ids\":[\"Putnam\"],\"legendgroup\":\"Putnam\",\"marker\":{\"color\":\"#B6E880\",\"pattern\":{\"shape\":\"\"}},\"name\":\"Putnam\",\"offsetgroup\":\"Putnam\",\"orientation\":\"v\",\"showlegend\":true,\"textposition\":\"auto\",\"x\":[\"Putnam\"],\"xaxis\":\"x\",\"y\":[10.84],\"yaxis\":\"y\",\"type\":\"bar\"},{\"alignmentgroup\":\"True\",\"hovertemplate\":\"Provider County=%{x}<br>Year=2013<br>Observed Prescribing Rate per 100 Visits=%{y}<extra></extra>\",\"ids\":[\"Seneca\"],\"legendgroup\":\"Seneca\",\"marker\":{\"color\":\"#FF97FF\",\"pattern\":{\"shape\":\"\"}},\"name\":\"Seneca\",\"offsetgroup\":\"Seneca\",\"orientation\":\"v\",\"showlegend\":true,\"textposition\":\"auto\",\"x\":[\"Seneca\"],\"xaxis\":\"x\",\"y\":[40.0],\"yaxis\":\"y\",\"type\":\"bar\"},{\"alignmentgroup\":\"True\",\"hovertemplate\":\"Provider County=%{x}<br>Year=2013<br>Observed Prescribing Rate per 100 Visits=%{y}<extra></extra>\",\"ids\":[\"Statewide\"],\"legendgroup\":\"Statewide\",\"marker\":{\"color\":\"#FECB52\",\"pattern\":{\"shape\":\"\"}},\"name\":\"Statewide\",\"offsetgroup\":\"Statewide\",\"orientation\":\"v\",\"showlegend\":true,\"textposition\":\"auto\",\"x\":[\"Statewide\"],\"xaxis\":\"x\",\"y\":[12.3],\"yaxis\":\"y\",\"type\":\"bar\"}],\"name\":\"2013\"},{\"data\":[{\"alignmentgroup\":\"True\",\"hovertemplate\":\"Provider County=%{x}<br>Year=2012<br>Observed Prescribing Rate per 100 Visits=%{y}<extra></extra>\",\"ids\":[\"Jefferson\"],\"legendgroup\":\"Jefferson\",\"marker\":{\"color\":\"#636efa\",\"pattern\":{\"shape\":\"\"}},\"name\":\"Jefferson\",\"offsetgroup\":\"Jefferson\",\"orientation\":\"v\",\"showlegend\":true,\"textposition\":\"auto\",\"x\":[\"Jefferson\"],\"xaxis\":\"x\",\"y\":[43.93],\"yaxis\":\"y\",\"type\":\"bar\"},{\"alignmentgroup\":\"True\",\"hovertemplate\":\"Provider County=%{x}<br>Year=2012<br>Observed Prescribing Rate per 100 Visits=%{y}<extra></extra>\",\"ids\":[\"Montgomery\"],\"legendgroup\":\"Montgomery\",\"marker\":{\"color\":\"#EF553B\",\"pattern\":{\"shape\":\"\"}},\"name\":\"Montgomery\",\"offsetgroup\":\"Montgomery\",\"orientation\":\"v\",\"showlegend\":true,\"textposition\":\"auto\",\"x\":[\"Montgomery\"],\"xaxis\":\"x\",\"y\":[15.82],\"yaxis\":\"y\",\"type\":\"bar\"},{\"alignmentgroup\":\"True\",\"hovertemplate\":\"Provider County=%{x}<br>Year=2012<br>Observed Prescribing Rate per 100 Visits=%{y}<extra></extra>\",\"ids\":[\"Nassau\"],\"legendgroup\":\"Nassau\",\"marker\":{\"color\":\"#00cc96\",\"pattern\":{\"shape\":\"\"}},\"name\":\"Nassau\",\"offsetgroup\":\"Nassau\",\"orientation\":\"v\",\"showlegend\":true,\"textposition\":\"auto\",\"x\":[\"Nassau\"],\"xaxis\":\"x\",\"y\":[15.11],\"yaxis\":\"y\",\"type\":\"bar\"},{\"alignmentgroup\":\"True\",\"hovertemplate\":\"Provider County=%{x}<br>Year=2012<br>Observed Prescribing Rate per 100 Visits=%{y}<extra></extra>\",\"ids\":[\"New york\"],\"legendgroup\":\"New york\",\"marker\":{\"color\":\"#ab63fa\",\"pattern\":{\"shape\":\"\"}},\"name\":\"New york\",\"offsetgroup\":\"New york\",\"orientation\":\"v\",\"showlegend\":true,\"textposition\":\"auto\",\"x\":[\"New york\"],\"xaxis\":\"x\",\"y\":[8.05],\"yaxis\":\"y\",\"type\":\"bar\"},{\"alignmentgroup\":\"True\",\"hovertemplate\":\"Provider County=%{x}<br>Year=2012<br>Observed Prescribing Rate per 100 Visits=%{y}<extra></extra>\",\"ids\":[\"Niagara\"],\"legendgroup\":\"Niagara\",\"marker\":{\"color\":\"#FFA15A\",\"pattern\":{\"shape\":\"\"}},\"name\":\"Niagara\",\"offsetgroup\":\"Niagara\",\"orientation\":\"v\",\"showlegend\":true,\"textposition\":\"auto\",\"x\":[\"Niagara\"],\"xaxis\":\"x\",\"y\":[20.48],\"yaxis\":\"y\",\"type\":\"bar\"},{\"alignmentgroup\":\"True\",\"hovertemplate\":\"Provider County=%{x}<br>Year=2012<br>Observed Prescribing Rate per 100 Visits=%{y}<extra></extra>\",\"ids\":[\"Onondaga\"],\"legendgroup\":\"Onondaga\",\"marker\":{\"color\":\"#19d3f3\",\"pattern\":{\"shape\":\"\"}},\"name\":\"Onondaga\",\"offsetgroup\":\"Onondaga\",\"orientation\":\"v\",\"showlegend\":true,\"textposition\":\"auto\",\"x\":[\"Onondaga\"],\"xaxis\":\"x\",\"y\":[16.84],\"yaxis\":\"y\",\"type\":\"bar\"},{\"alignmentgroup\":\"True\",\"hovertemplate\":\"Provider County=%{x}<br>Year=2012<br>Observed Prescribing Rate per 100 Visits=%{y}<extra></extra>\",\"ids\":[\"Orange\"],\"legendgroup\":\"Orange\",\"marker\":{\"color\":\"#FF6692\",\"pattern\":{\"shape\":\"\"}},\"name\":\"Orange\",\"offsetgroup\":\"Orange\",\"orientation\":\"v\",\"showlegend\":true,\"textposition\":\"auto\",\"x\":[\"Orange\"],\"xaxis\":\"x\",\"y\":[17.71],\"yaxis\":\"y\",\"type\":\"bar\"},{\"alignmentgroup\":\"True\",\"hovertemplate\":\"Provider County=%{x}<br>Year=2012<br>Observed Prescribing Rate per 100 Visits=%{y}<extra></extra>\",\"ids\":[\"Putnam\"],\"legendgroup\":\"Putnam\",\"marker\":{\"color\":\"#B6E880\",\"pattern\":{\"shape\":\"\"}},\"name\":\"Putnam\",\"offsetgroup\":\"Putnam\",\"orientation\":\"v\",\"showlegend\":true,\"textposition\":\"auto\",\"x\":[\"Putnam\"],\"xaxis\":\"x\",\"y\":[15.36],\"yaxis\":\"y\",\"type\":\"bar\"},{\"alignmentgroup\":\"True\",\"hovertemplate\":\"Provider County=%{x}<br>Year=2012<br>Observed Prescribing Rate per 100 Visits=%{y}<extra></extra>\",\"ids\":[\"Seneca\"],\"legendgroup\":\"Seneca\",\"marker\":{\"color\":\"#FF97FF\",\"pattern\":{\"shape\":\"\"}},\"name\":\"Seneca\",\"offsetgroup\":\"Seneca\",\"orientation\":\"v\",\"showlegend\":true,\"textposition\":\"auto\",\"x\":[\"Seneca\"],\"xaxis\":\"x\",\"y\":[46.88],\"yaxis\":\"y\",\"type\":\"bar\"},{\"alignmentgroup\":\"True\",\"hovertemplate\":\"Provider County=%{x}<br>Year=2012<br>Observed Prescribing Rate per 100 Visits=%{y}<extra></extra>\",\"ids\":[\"Statewide\"],\"legendgroup\":\"Statewide\",\"marker\":{\"color\":\"#FECB52\",\"pattern\":{\"shape\":\"\"}},\"name\":\"Statewide\",\"offsetgroup\":\"Statewide\",\"orientation\":\"v\",\"showlegend\":true,\"textposition\":\"auto\",\"x\":[\"Statewide\"],\"xaxis\":\"x\",\"y\":[13.92],\"yaxis\":\"y\",\"type\":\"bar\"}],\"name\":\"2012\"},{\"data\":[{\"alignmentgroup\":\"True\",\"hovertemplate\":\"Provider County=%{x}<br>Year=2011<br>Observed Prescribing Rate per 100 Visits=%{y}<extra></extra>\",\"ids\":[\"Jefferson\"],\"legendgroup\":\"Jefferson\",\"marker\":{\"color\":\"#636efa\",\"pattern\":{\"shape\":\"\"}},\"name\":\"Jefferson\",\"offsetgroup\":\"Jefferson\",\"orientation\":\"v\",\"showlegend\":true,\"textposition\":\"auto\",\"x\":[\"Jefferson\"],\"xaxis\":\"x\",\"y\":[41.51],\"yaxis\":\"y\",\"type\":\"bar\"},{\"alignmentgroup\":\"True\",\"hovertemplate\":\"Provider County=%{x}<br>Year=2011<br>Observed Prescribing Rate per 100 Visits=%{y}<extra></extra>\",\"ids\":[\"Montgomery\"],\"legendgroup\":\"Montgomery\",\"marker\":{\"color\":\"#EF553B\",\"pattern\":{\"shape\":\"\"}},\"name\":\"Montgomery\",\"offsetgroup\":\"Montgomery\",\"orientation\":\"v\",\"showlegend\":true,\"textposition\":\"auto\",\"x\":[\"Montgomery\"],\"xaxis\":\"x\",\"y\":[11.4],\"yaxis\":\"y\",\"type\":\"bar\"},{\"alignmentgroup\":\"True\",\"hovertemplate\":\"Provider County=%{x}<br>Year=2011<br>Observed Prescribing Rate per 100 Visits=%{y}<extra></extra>\",\"ids\":[\"Nassau\"],\"legendgroup\":\"Nassau\",\"marker\":{\"color\":\"#00cc96\",\"pattern\":{\"shape\":\"\"}},\"name\":\"Nassau\",\"offsetgroup\":\"Nassau\",\"orientation\":\"v\",\"showlegend\":true,\"textposition\":\"auto\",\"x\":[\"Nassau\"],\"xaxis\":\"x\",\"y\":[13.42],\"yaxis\":\"y\",\"type\":\"bar\"},{\"alignmentgroup\":\"True\",\"hovertemplate\":\"Provider County=%{x}<br>Year=2011<br>Observed Prescribing Rate per 100 Visits=%{y}<extra></extra>\",\"ids\":[\"New york\"],\"legendgroup\":\"New york\",\"marker\":{\"color\":\"#ab63fa\",\"pattern\":{\"shape\":\"\"}},\"name\":\"New york\",\"offsetgroup\":\"New york\",\"orientation\":\"v\",\"showlegend\":true,\"textposition\":\"auto\",\"x\":[\"New york\"],\"xaxis\":\"x\",\"y\":[8.93],\"yaxis\":\"y\",\"type\":\"bar\"},{\"alignmentgroup\":\"True\",\"hovertemplate\":\"Provider County=%{x}<br>Year=2011<br>Observed Prescribing Rate per 100 Visits=%{y}<extra></extra>\",\"ids\":[\"Niagara\"],\"legendgroup\":\"Niagara\",\"marker\":{\"color\":\"#FFA15A\",\"pattern\":{\"shape\":\"\"}},\"name\":\"Niagara\",\"offsetgroup\":\"Niagara\",\"orientation\":\"v\",\"showlegend\":true,\"textposition\":\"auto\",\"x\":[\"Niagara\"],\"xaxis\":\"x\",\"y\":[18.05],\"yaxis\":\"y\",\"type\":\"bar\"},{\"alignmentgroup\":\"True\",\"hovertemplate\":\"Provider County=%{x}<br>Year=2011<br>Observed Prescribing Rate per 100 Visits=%{y}<extra></extra>\",\"ids\":[\"Onondaga\"],\"legendgroup\":\"Onondaga\",\"marker\":{\"color\":\"#19d3f3\",\"pattern\":{\"shape\":\"\"}},\"name\":\"Onondaga\",\"offsetgroup\":\"Onondaga\",\"orientation\":\"v\",\"showlegend\":true,\"textposition\":\"auto\",\"x\":[\"Onondaga\"],\"xaxis\":\"x\",\"y\":[19.92],\"yaxis\":\"y\",\"type\":\"bar\"},{\"alignmentgroup\":\"True\",\"hovertemplate\":\"Provider County=%{x}<br>Year=2011<br>Observed Prescribing Rate per 100 Visits=%{y}<extra></extra>\",\"ids\":[\"Orange\"],\"legendgroup\":\"Orange\",\"marker\":{\"color\":\"#FF6692\",\"pattern\":{\"shape\":\"\"}},\"name\":\"Orange\",\"offsetgroup\":\"Orange\",\"orientation\":\"v\",\"showlegend\":true,\"textposition\":\"auto\",\"x\":[\"Orange\"],\"xaxis\":\"x\",\"y\":[15.53],\"yaxis\":\"y\",\"type\":\"bar\"},{\"alignmentgroup\":\"True\",\"hovertemplate\":\"Provider County=%{x}<br>Year=2011<br>Observed Prescribing Rate per 100 Visits=%{y}<extra></extra>\",\"ids\":[\"Putnam\"],\"legendgroup\":\"Putnam\",\"marker\":{\"color\":\"#B6E880\",\"pattern\":{\"shape\":\"\"}},\"name\":\"Putnam\",\"offsetgroup\":\"Putnam\",\"orientation\":\"v\",\"showlegend\":true,\"textposition\":\"auto\",\"x\":[\"Putnam\"],\"xaxis\":\"x\",\"y\":[8.03],\"yaxis\":\"y\",\"type\":\"bar\"},{\"alignmentgroup\":\"True\",\"hovertemplate\":\"Provider County=%{x}<br>Year=2011<br>Observed Prescribing Rate per 100 Visits=%{y}<extra></extra>\",\"ids\":[\"Seneca\"],\"legendgroup\":\"Seneca\",\"marker\":{\"color\":\"#FF97FF\",\"pattern\":{\"shape\":\"\"}},\"name\":\"Seneca\",\"offsetgroup\":\"Seneca\",\"orientation\":\"v\",\"showlegend\":true,\"textposition\":\"auto\",\"x\":[\"Seneca\"],\"xaxis\":\"x\",\"y\":[48.98],\"yaxis\":\"y\",\"type\":\"bar\"},{\"alignmentgroup\":\"True\",\"hovertemplate\":\"Provider County=%{x}<br>Year=2011<br>Observed Prescribing Rate per 100 Visits=%{y}<extra></extra>\",\"ids\":[\"Statewide\"],\"legendgroup\":\"Statewide\",\"marker\":{\"color\":\"#FECB52\",\"pattern\":{\"shape\":\"\"}},\"name\":\"Statewide\",\"offsetgroup\":\"Statewide\",\"orientation\":\"v\",\"showlegend\":true,\"textposition\":\"auto\",\"x\":[\"Statewide\"],\"xaxis\":\"x\",\"y\":[14.83],\"yaxis\":\"y\",\"type\":\"bar\"}],\"name\":\"2011\"},{\"data\":[{\"alignmentgroup\":\"True\",\"hovertemplate\":\"Provider County=%{x}<br>Year=2010<br>Observed Prescribing Rate per 100 Visits=%{y}<extra></extra>\",\"ids\":[\"Jefferson\"],\"legendgroup\":\"Jefferson\",\"marker\":{\"color\":\"#636efa\",\"pattern\":{\"shape\":\"\"}},\"name\":\"Jefferson\",\"offsetgroup\":\"Jefferson\",\"orientation\":\"v\",\"showlegend\":true,\"textposition\":\"auto\",\"x\":[\"Jefferson\"],\"xaxis\":\"x\",\"y\":[45.96],\"yaxis\":\"y\",\"type\":\"bar\"},{\"alignmentgroup\":\"True\",\"hovertemplate\":\"Provider County=%{x}<br>Year=2010<br>Observed Prescribing Rate per 100 Visits=%{y}<extra></extra>\",\"ids\":[\"Montgomery\"],\"legendgroup\":\"Montgomery\",\"marker\":{\"color\":\"#EF553B\",\"pattern\":{\"shape\":\"\"}},\"name\":\"Montgomery\",\"offsetgroup\":\"Montgomery\",\"orientation\":\"v\",\"showlegend\":true,\"textposition\":\"auto\",\"x\":[\"Montgomery\"],\"xaxis\":\"x\",\"y\":[17.65],\"yaxis\":\"y\",\"type\":\"bar\"},{\"alignmentgroup\":\"True\",\"hovertemplate\":\"Provider County=%{x}<br>Year=2010<br>Observed Prescribing Rate per 100 Visits=%{y}<extra></extra>\",\"ids\":[\"Nassau\"],\"legendgroup\":\"Nassau\",\"marker\":{\"color\":\"#00cc96\",\"pattern\":{\"shape\":\"\"}},\"name\":\"Nassau\",\"offsetgroup\":\"Nassau\",\"orientation\":\"v\",\"showlegend\":true,\"textposition\":\"auto\",\"x\":[\"Nassau\"],\"xaxis\":\"x\",\"y\":[13.9],\"yaxis\":\"y\",\"type\":\"bar\"},{\"alignmentgroup\":\"True\",\"hovertemplate\":\"Provider County=%{x}<br>Year=2010<br>Observed Prescribing Rate per 100 Visits=%{y}<extra></extra>\",\"ids\":[\"New york\"],\"legendgroup\":\"New york\",\"marker\":{\"color\":\"#ab63fa\",\"pattern\":{\"shape\":\"\"}},\"name\":\"New york\",\"offsetgroup\":\"New york\",\"orientation\":\"v\",\"showlegend\":true,\"textposition\":\"auto\",\"x\":[\"New york\"],\"xaxis\":\"x\",\"y\":[9.22],\"yaxis\":\"y\",\"type\":\"bar\"},{\"alignmentgroup\":\"True\",\"hovertemplate\":\"Provider County=%{x}<br>Year=2010<br>Observed Prescribing Rate per 100 Visits=%{y}<extra></extra>\",\"ids\":[\"Niagara\"],\"legendgroup\":\"Niagara\",\"marker\":{\"color\":\"#FFA15A\",\"pattern\":{\"shape\":\"\"}},\"name\":\"Niagara\",\"offsetgroup\":\"Niagara\",\"orientation\":\"v\",\"showlegend\":true,\"textposition\":\"auto\",\"x\":[\"Niagara\"],\"xaxis\":\"x\",\"y\":[20.3],\"yaxis\":\"y\",\"type\":\"bar\"},{\"alignmentgroup\":\"True\",\"hovertemplate\":\"Provider County=%{x}<br>Year=2010<br>Observed Prescribing Rate per 100 Visits=%{y}<extra></extra>\",\"ids\":[\"Onondaga\"],\"legendgroup\":\"Onondaga\",\"marker\":{\"color\":\"#19d3f3\",\"pattern\":{\"shape\":\"\"}},\"name\":\"Onondaga\",\"offsetgroup\":\"Onondaga\",\"orientation\":\"v\",\"showlegend\":true,\"textposition\":\"auto\",\"x\":[\"Onondaga\"],\"xaxis\":\"x\",\"y\":[18.62],\"yaxis\":\"y\",\"type\":\"bar\"},{\"alignmentgroup\":\"True\",\"hovertemplate\":\"Provider County=%{x}<br>Year=2010<br>Observed Prescribing Rate per 100 Visits=%{y}<extra></extra>\",\"ids\":[\"Orange\"],\"legendgroup\":\"Orange\",\"marker\":{\"color\":\"#FF6692\",\"pattern\":{\"shape\":\"\"}},\"name\":\"Orange\",\"offsetgroup\":\"Orange\",\"orientation\":\"v\",\"showlegend\":true,\"textposition\":\"auto\",\"x\":[\"Orange\"],\"xaxis\":\"x\",\"y\":[15.0],\"yaxis\":\"y\",\"type\":\"bar\"},{\"alignmentgroup\":\"True\",\"hovertemplate\":\"Provider County=%{x}<br>Year=2010<br>Observed Prescribing Rate per 100 Visits=%{y}<extra></extra>\",\"ids\":[\"Putnam\"],\"legendgroup\":\"Putnam\",\"marker\":{\"color\":\"#B6E880\",\"pattern\":{\"shape\":\"\"}},\"name\":\"Putnam\",\"offsetgroup\":\"Putnam\",\"orientation\":\"v\",\"showlegend\":true,\"textposition\":\"auto\",\"x\":[\"Putnam\"],\"xaxis\":\"x\",\"y\":[16.04],\"yaxis\":\"y\",\"type\":\"bar\"},{\"alignmentgroup\":\"True\",\"hovertemplate\":\"Provider County=%{x}<br>Year=2010<br>Observed Prescribing Rate per 100 Visits=%{y}<extra></extra>\",\"ids\":[\"Seneca\"],\"legendgroup\":\"Seneca\",\"marker\":{\"color\":\"#FF97FF\",\"pattern\":{\"shape\":\"\"}},\"name\":\"Seneca\",\"offsetgroup\":\"Seneca\",\"orientation\":\"v\",\"showlegend\":true,\"textposition\":\"auto\",\"x\":[\"Seneca\"],\"xaxis\":\"x\",\"y\":[35.09],\"yaxis\":\"y\",\"type\":\"bar\"},{\"alignmentgroup\":\"True\",\"hovertemplate\":\"Provider County=%{x}<br>Year=2010<br>Observed Prescribing Rate per 100 Visits=%{y}<extra></extra>\",\"ids\":[\"Statewide\"],\"legendgroup\":\"Statewide\",\"marker\":{\"color\":\"#FECB52\",\"pattern\":{\"shape\":\"\"}},\"name\":\"Statewide\",\"offsetgroup\":\"Statewide\",\"orientation\":\"v\",\"showlegend\":true,\"textposition\":\"auto\",\"x\":[\"Statewide\"],\"xaxis\":\"x\",\"y\":[15.12],\"yaxis\":\"y\",\"type\":\"bar\"}],\"name\":\"2010\"}]);\n",
              "                        }).then(function(){\n",
              "                            \n",
              "var gd = document.getElementById('d2eb5583-cb9a-4a0a-8272-dddb382e755e');\n",
              "var x = new MutationObserver(function (mutations, observer) {{\n",
              "        var display = window.getComputedStyle(gd).display;\n",
              "        if (!display || display === 'none') {{\n",
              "            console.log([gd, 'removed!']);\n",
              "            Plotly.purge(gd);\n",
              "            observer.disconnect();\n",
              "        }}\n",
              "}});\n",
              "\n",
              "// Listen for the removal of the full notebook cells\n",
              "var notebookContainer = gd.closest('#notebook-container');\n",
              "if (notebookContainer) {{\n",
              "    x.observe(notebookContainer, {childList: true});\n",
              "}}\n",
              "\n",
              "// Listen for the clearing of the current output cell\n",
              "var outputEl = gd.closest('.output');\n",
              "if (outputEl) {{\n",
              "    x.observe(outputEl, {childList: true});\n",
              "}}\n",
              "\n",
              "                        })                };                            </script>        </div>\n",
              "</body>\n",
              "</html>"
            ]
          },
          "metadata": {}
        }
      ]
    },
    {
      "cell_type": "code",
      "source": [
        ""
      ],
      "metadata": {
        "id": "1Firt6EKrUiM"
      },
      "execution_count": 9,
      "outputs": []
    },
    {
      "cell_type": "code",
      "source": [
        ""
      ],
      "metadata": {
        "id": "tGqEe_CU5zhh"
      },
      "execution_count": 9,
      "outputs": []
    }
  ]
}